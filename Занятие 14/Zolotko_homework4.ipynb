{
 "cells": [
  {
   "cell_type": "markdown",
   "metadata": {},
   "source": [
    "# Домашнее задание \n",
    "\n",
    "В этом задании мы попрактикуемся в методах снижения размерности и кластеризации данных. \n",
    "\n",
    "Мы будем работать с набором данных Samsung Human Activity Recognition. Скачайте данные по ссылке https://yadi.sk/d/_WFxgSIuBF06Rg. Данные поступают с акселерометров и гироскопов мобильных телефонов Samsung Galaxy S3, также известен вид активности человека с телефоном в кармане – ходил ли он, стоял, лежал, сидел или шел вверх/вниз по лестнице.\n",
    "\n",
    "Представим, что вид активности нам неизвестнен, и попробуем кластеризовать людей чисто на основе имеющихся признаков."
   ]
  },
  {
   "cell_type": "code",
   "execution_count": 3,
   "metadata": {},
   "outputs": [],
   "source": [
    "import numpy as np\n",
    "import pandas as pd\n",
    "import seaborn as sns\n",
    "from tqdm import tqdm_notebook\n",
    "\n",
    "%matplotlib inline\n",
    "from matplotlib import pyplot as plt\n",
    "plt.style.use(['seaborn-darkgrid'])\n",
    "plt.rcParams['figure.figsize'] = (12, 9)\n",
    "plt.rcParams['font.family'] = 'DejaVu Sans'\n",
    "\n",
    "from sklearn import metrics\n",
    "from sklearn.cluster import KMeans, AgglomerativeClustering, SpectralClustering,Birch,MeanShift\n",
    "from sklearn.decomposition import PCA\n",
    "from sklearn.model_selection import GridSearchCV\n",
    "from sklearn.preprocessing import StandardScaler\n",
    "from sklearn.svm import LinearSVC\n",
    "from sklearn import metrics\n",
    "\n",
    "\n",
    "RANDOM_STATE = 123"
   ]
  },
  {
   "cell_type": "code",
   "execution_count": 4,
   "metadata": {},
   "outputs": [],
   "source": [
    "X_train = np.loadtxt(\"samsung_HAR/samsung_HAR/samsung_train.txt\")\n",
    "y_train = np.loadtxt(\"samsung_HAR/samsung_HAR/samsung_train_labels.txt\").astype(int)\n",
    "\n",
    "X_test = np.loadtxt(\"samsung_HAR/samsung_HAR/samsung_test.txt\")\n",
    "y_test = np.loadtxt(\"samsung_HAR/samsung_HAR/samsung_test_labels.txt\").astype(int)"
   ]
  },
  {
   "cell_type": "code",
   "execution_count": 5,
   "metadata": {},
   "outputs": [
    {
     "data": {
      "text/plain": [
       "(2947, 561)"
      ]
     },
     "execution_count": 5,
     "metadata": {},
     "output_type": "execute_result"
    }
   ],
   "source": [
    "X_test.shape"
   ]
  },
  {
   "cell_type": "markdown",
   "metadata": {},
   "source": [
    "Для кластеризации нам не нужен вектор ответов. Объедините обучающую и тестовую выборки."
   ]
  },
  {
   "cell_type": "code",
   "execution_count": 6,
   "metadata": {},
   "outputs": [],
   "source": [
    "X = pd.concat([pd.DataFrame(X_train), pd.DataFrame(X_test)])\n",
    "y =pd.concat([pd.DataFrame(y_train), pd.DataFrame(y_test)])"
   ]
  },
  {
   "cell_type": "code",
   "execution_count": 7,
   "metadata": {},
   "outputs": [
    {
     "data": {
      "text/plain": [
       "array([1, 2, 3, 4, 5, 6])"
      ]
     },
     "execution_count": 7,
     "metadata": {},
     "output_type": "execute_result"
    }
   ],
   "source": [
    "np.unique(y)"
   ]
  },
  {
   "cell_type": "markdown",
   "metadata": {},
   "source": [
    "Эти метки соответствуют:\n",
    "\n",
    "1 - ходьбе,\n",
    "2 - подъему вверх по лестнице,\n",
    "3 - спуску по лестнице,\n",
    "4 - сидению,\n",
    "5 - стоянию,\n",
    "6 - лежанию"
   ]
  },
  {
   "cell_type": "markdown",
   "metadata": {},
   "source": [
    "## Масштабирование данных с помощью StandardScaler"
   ]
  },
  {
   "cell_type": "markdown",
   "metadata": {},
   "source": [
    "Отмасштабируйте выборку с помощью StandardScaler."
   ]
  },
  {
   "cell_type": "code",
   "execution_count": 8,
   "metadata": {},
   "outputs": [
    {
     "data": {
      "text/plain": [
       "array([[ 2.10533854e-01, -6.87026385e-02, -4.52194533e-01, ...,\n",
       "        -6.74432366e-01,  3.82007658e-01, -1.61505480e-02],\n",
       "       [ 6.02084832e-02,  3.59023537e-02, -2.75221885e-01, ...,\n",
       "        -6.81359801e-01,  3.83147865e-01, -1.20627169e-04],\n",
       "       [ 7.84597052e-02, -4.64269585e-02, -8.55480582e-02, ...,\n",
       "        -6.89470939e-01,  3.84288531e-01,  1.92144041e-02],\n",
       "       ...,\n",
       "       [ 1.11821625e+00,  1.28805864e+00, -1.29414692e-01, ...,\n",
       "        -3.10750224e-01,  6.91509049e-01,  8.75719123e-01],\n",
       "       [-5.43492722e-01,  9.75327452e-01,  2.34319837e-01, ...,\n",
       "        -3.19283719e-01,  6.59762215e-01,  8.99444350e-01],\n",
       "       [-1.78515253e+00, -1.86663622e-02, -5.29759691e-01, ...,\n",
       "        -3.19991245e-01,  6.56994458e-01,  9.01454465e-01]])"
      ]
     },
     "execution_count": 8,
     "metadata": {},
     "output_type": "execute_result"
    }
   ],
   "source": [
    "scaler=StandardScaler().fit(X)\n",
    "X_scaled=scaler.transform(X)\n",
    "X_scaled"
   ]
  },
  {
   "cell_type": "markdown",
   "metadata": {},
   "source": [
    "## Понижение размерности с помощью PCA"
   ]
  },
  {
   "cell_type": "markdown",
   "metadata": {},
   "source": [
    "Понижаем размерность с помощью PCA, оставляя столько компонент, сколько нужно для того, чтобы объяснить как минимум 90% дисперсии исходных (отмасштабированных) данных. Используйте отмасштабированную выборку и зафиксируйте random_state."
   ]
  },
  {
   "cell_type": "code",
   "execution_count": 9,
   "metadata": {},
   "outputs": [
    {
     "data": {
      "text/plain": [
       "65"
      ]
     },
     "execution_count": 9,
     "metadata": {},
     "output_type": "execute_result"
    }
   ],
   "source": [
    "pca = PCA(0.9,random_state=123)\n",
    "X_pca = pca.fit_transform(X_scaled)\n",
    "len(pca.components_)"
   ]
  },
  {
   "cell_type": "code",
   "execution_count": 10,
   "metadata": {},
   "outputs": [
    {
     "data": {
      "image/png": "[encoded data removed]",
      "text/plain": [
       "<Figure size 864x576 with 1 Axes>"
      ]
     },
     "metadata": {},
     "output_type": "display_data"
    }
   ],
   "source": [
    "plt.figure(figsize=(12,8))\n",
    "plt.plot(np.cumsum(pca.explained_variance_ratio_))\n",
    "plt.xlabel('number of components')\n",
    "plt.ylabel('cumulative explained variance')\n",
    "plt.xticks(np.arange(0, 70, step=5))\n",
    "plt.grid(visible=True,linewidth=1,color='black',which='both', alpha=0.01)"
   ]
  },
  {
   "cell_type": "markdown",
   "metadata": {},
   "source": [
    "Визуализируйте данные в проекции на первые две главные компоненты."
   ]
  },
  {
   "cell_type": "code",
   "execution_count": 11,
   "metadata": {},
   "outputs": [
    {
     "data": {
      "text/plain": [
       "Text(0, 0.5, 'y')"
      ]
     },
     "execution_count": 11,
     "metadata": {},
     "output_type": "execute_result"
    },
    {
     "data": {
      "image/png": "[encoded data removed]",
      "text/plain": [
       "<Figure size 864x576 with 1 Axes>"
      ]
     },
     "metadata": {},
     "output_type": "display_data"
    }
   ],
   "source": [
    "plt.figure(figsize=(12,8))\n",
    "plt.scatter(X_pca[:,0], X_pca[:,1], c=y, s=20, cmap='viridis')\n",
    "plt.xlabel('x')\n",
    "plt.ylabel('y')"
   ]
  },
  {
   "cell_type": "code",
   "execution_count": 12,
   "metadata": {},
   "outputs": [
    {
     "data": {
      "text/plain": [
       "array([-16.38097982, -15.58217328, -15.42398918, ...,  11.84685312,\n",
       "         8.20668637,   9.31117251])"
      ]
     },
     "execution_count": 12,
     "metadata": {},
     "output_type": "execute_result"
    }
   ],
   "source": [
    "X_pca[:,0]"
   ]
  },
  {
   "cell_type": "markdown",
   "metadata": {},
   "source": [
    "## KMeans"
   ]
  },
  {
   "cell_type": "code",
   "execution_count": null,
   "metadata": {},
   "outputs": [],
   "source": []
  },
  {
   "cell_type": "markdown",
   "metadata": {},
   "source": [
    "Сделайте кластеризацию данных методом KMeans, обучив модель на данных со сниженной за счет PCA размерностью. В данном случае нужно искать 6 кластеров (так как у нас 6 классов).\n",
    "\n",
    "Параметры:\n",
    "\n",
    "n_clusters = n_classes (число уникальных меток целевого класса)\n",
    "\n",
    "n_init = 100\n",
    "\n",
    "random_state = RANDOM_STATE (для воспроизводимости результата)"
   ]
  },
  {
   "cell_type": "code",
   "execution_count": null,
   "metadata": {},
   "outputs": [],
   "source": [
    "n_classes=len(np.unique(y))\n",
    "n_classes"
   ]
  },
  {
   "cell_type": "code",
   "execution_count": null,
   "metadata": {},
   "outputs": [],
   "source": [
    "kmeans=KMeans(n_clusters=n_classes,n_init=100,random_state=123)\n",
    "kmeans.fit(X_pca)\n",
    "kmeans.labels_"
   ]
  },
  {
   "cell_type": "markdown",
   "metadata": {},
   "source": [
    "Визуализируйте данные в проекции на первые две главные компоненты. Раскрасьте точки в соответствии с полученными метками кластеров."
   ]
  },
  {
   "cell_type": "code",
   "execution_count": null,
   "metadata": {},
   "outputs": [],
   "source": [
    "plt.figure(figsize=(12,8))\n",
    "plt.scatter(X_pca[:,0], X_pca[:,1], c=kmeans.labels_, s=20, cmap='viridis')\n",
    "plt.xlabel('x')\n",
    "plt.ylabel('y')"
   ]
  },
  {
   "cell_type": "markdown",
   "metadata": {},
   "source": [
    "Выведите на экран значения метрик качества кластеризации"
   ]
  },
  {
   "cell_type": "code",
   "execution_count": null,
   "metadata": {},
   "outputs": [],
   "source": [
    "result=result.drop"
   ]
  },
  {
   "cell_type": "code",
   "execution_count": null,
   "metadata": {},
   "outputs": [],
   "source": [
    "d={'model':['kmeans'],'Homogeneity':[metrics.homogeneity_score(y[0], kmeans.labels_)],\n",
    "   'Completeness':[metrics.completeness_score(y[0], kmeans.labels_)],\n",
    "   'V-measure':[metrics.v_measure_score(y[0], kmeans.labels_)],\n",
    "  'Adjusted Rand-Index':[metrics.adjusted_rand_score(y[0], kmeans.labels_)],\n",
    "   'Adjusted mutual info score':[metrics.adjusted_mutual_info_score(y[0], kmeans.labels_)],\n",
    "   'Silhouette Coefficient':[metrics.silhouette_score(X_pca, kmeans.labels_, sample_size=1000)]}\n",
    "result=pd.DataFrame(data=d)\n",
    "\n",
    "print(\"Homogeneity: %0.3f\" % result[result.model == 'kmeans']['Homogeneity'])\n",
    "print(\"Completeness: %0.3f\" % result[result.model == 'kmeans']['Completeness'])\n",
    "print(\"V-measure: %0.3f\" % result[result.model == 'kmeans']['V-measure'])\n",
    "print(\"Adjusted Rand-Index: %.3f\"\n",
    "      % result[result.model == 'kmeans']['Adjusted Rand-Index'])\n",
    "print(\"Adjusted mutual info score: %.3f\"\n",
    "      % result[result.model == 'kmeans']['Adjusted mutual info score'])\n",
    "\n",
    "print(\"Silhouette Coefficient: %0.3f\"\n",
    "      % result[result.model == 'kmeans']['Silhouette Coefficient'])"
   ]
  },
  {
   "cell_type": "code",
   "execution_count": null,
   "metadata": {},
   "outputs": [],
   "source": [
    "result"
   ]
  },
  {
   "cell_type": "markdown",
   "metadata": {},
   "source": [
    "## AgglomerativeClustering"
   ]
  },
  {
   "cell_type": "markdown",
   "metadata": {},
   "source": [
    "Теперь попробуем сделать кластеризацию с помощью AgglomerativeClustering (https://scikit-learn.org/stable/modules/generated/sklearn.cluster.AgglomerativeClustering.html)"
   ]
  },
  {
   "cell_type": "code",
   "execution_count": null,
   "metadata": {},
   "outputs": [],
   "source": [
    "ag = AgglomerativeClustering(n_clusters=n_classes, \n",
    "                             linkage='ward').fit(X_pca)"
   ]
  },
  {
   "cell_type": "code",
   "execution_count": null,
   "metadata": {},
   "outputs": [],
   "source": [
    "ag.labels_"
   ]
  },
  {
   "cell_type": "code",
   "execution_count": null,
   "metadata": {},
   "outputs": [],
   "source": [
    "plt.figure(figsize=(12,8))\n",
    "plt.scatter(X_pca[:,0], X_pca[:,1], c=ag.labels_, s=20, cmap='viridis')\n",
    "plt.xlabel('x')\n",
    "plt.ylabel('y')"
   ]
  },
  {
   "cell_type": "markdown",
   "metadata": {},
   "source": [
    "Выведите метрики качества для полученного разбиения на кластеры. Сравните с kmeans. Запишите выводы!"
   ]
  },
  {
   "cell_type": "code",
   "execution_count": null,
   "metadata": {},
   "outputs": [],
   "source": [
    "result = result.append(pd.DataFrame([['AgglomerativeClustering',\n",
    "                                      metrics.homogeneity_score(y[0], ag.labels_),\n",
    "                                      metrics.completeness_score(y[0], ag.labels_),\n",
    "                                      metrics.v_measure_score(y[0], ag.labels_),\n",
    "                                      metrics.adjusted_rand_score(y[0], ag.labels_),\n",
    "                                      metrics.adjusted_mutual_info_score(y[0], ag.labels_),\n",
    "                                      metrics.silhouette_score(X_pca, ag.labels_, sample_size=1000)]], columns\n",
    "=result.columns),ignore_index=True)\n",
    "\n",
    "print(\"Homogeneity: %0.3f\" % result[result.model == 'AgglomerativeClustering']['Homogeneity'])\n",
    "print(\"Completeness: %0.3f\" % result[result.model == 'AgglomerativeClustering']['Completeness'])\n",
    "print(\"V-measure: %0.3f\" % result[result.model == 'AgglomerativeClustering']['V-measure'])\n",
    "print(\"Adjusted Rand-Index: %.3f\"\n",
    "      % result[result.model == 'AgglomerativeClustering']['Adjusted Rand-Index'])\n",
    "print(\"Adjusted mutual info score: %.3f\"\n",
    "      % result[result.model == 'AgglomerativeClustering']['Adjusted mutual info score'])\n",
    "\n",
    "print(\"Silhouette Coefficient: %0.3f\"\n",
    "      % result[result.model == 'AgglomerativeClustering']['Silhouette Coefficient'])"
   ]
  },
  {
   "cell_type": "code",
   "execution_count": null,
   "metadata": {},
   "outputs": [],
   "source": [
    "result"
   ]
  },
  {
   "cell_type": "markdown",
   "metadata": {},
   "source": [
    "Cluster Homogeneity (однородность кластеров): значение метрики качества должно уменьшаться при объединении в один кластер двух эталонных\n",
    "Cluster Completeness (полнота кластеров): это свойство, двойственное свойству однородности. Значение метрики качества должно уменьшаться при разделении эталонного кластера на части\n",
    "V-мера  функция агрегирования является средним арифметическим\n",
    "Индекс Rand функция, которая измеряет сходство двух назначений, игнорируя перестановки\n"
   ]
  },
  {
   "cell_type": "markdown",
   "metadata": {},
   "source": [
    "**Вывод:** оба алгоритма (kmeans,AgglomerativeClustering) показывают среднее качество кластеризации. По внешним метрикам (Homogeneity,Completeness,V-measure,Adjusted Rand-Index,Adjusted mutual info score) качество незначительно лучше при иерархической кластеризации. Значения внешних метрик говорят нам и о объединении в один кластер двух эталонных и разделении эталонного кластера на части. Внутренняя метрика (Silhouette Coefficient) незначительно лучше в алгоритме k-средних, но для обоих алгоритмов она низкая и говорит о наличии перекрывающихся кластеров."
   ]
  },
  {
   "cell_type": "markdown",
   "metadata": {},
   "source": [
    "Попробуйте применить другие методы кластеризации из sklearn. Также вычислите метрики качества и сделайте вывод о том, какой метод сработал лучше."
   ]
  },
  {
   "cell_type": "markdown",
   "metadata": {},
   "source": [
    "## SpectralClustering"
   ]
  },
  {
   "cell_type": "code",
   "execution_count": null,
   "metadata": {},
   "outputs": [],
   "source": [
    "\n",
    "sc = SpectralClustering(n_clusters=n_classes,assign_labels='kmeans',random_state=123,\n",
    "                        n_init=100,affinity='nearest_neighbors').fit(X_pca)\n",
    "np.unique(sc.labels_)"
   ]
  },
  {
   "cell_type": "code",
   "execution_count": null,
   "metadata": {},
   "outputs": [],
   "source": [
    "plt.figure(figsize=(12,8))\n",
    "plt.scatter(X_pca[:,0], X_pca[:,1], c=sc.labels_, s=20, cmap='viridis')\n",
    "plt.xlabel('x')\n",
    "plt.ylabel('y')"
   ]
  },
  {
   "cell_type": "code",
   "execution_count": null,
   "metadata": {},
   "outputs": [],
   "source": [
    "result = result.append(pd.DataFrame([['SpectralClustering',\n",
    "                                      metrics.homogeneity_score(y[0], sc.labels_),\n",
    "                                      metrics.completeness_score(y[0], sc.labels_),\n",
    "                                      metrics.v_measure_score(y[0], sc.labels_),\n",
    "                                      metrics.adjusted_rand_score(y[0], sc.labels_),\n",
    "                                      metrics.adjusted_mutual_info_score(y[0], sc.labels_),\n",
    "                                      metrics.silhouette_score(X_pca, sc.labels_, sample_size=1000)]], columns\n",
    "=result.columns),ignore_index=True)\n",
    "\n",
    "print(\"Homogeneity: %0.3f\" % result[result.model == 'SpectralClustering']['Homogeneity'])\n",
    "print(\"Completeness: %0.3f\" % result[result.model == 'SpectralClustering']['Completeness'])\n",
    "print(\"V-measure: %0.3f\" % result[result.model == 'SpectralClustering']['V-measure'])\n",
    "print(\"Adjusted Rand-Index: %.3f\"\n",
    "      % result[result.model == 'SpectralClustering']['Adjusted Rand-Index'])\n",
    "print(\"Adjusted mutual info score: %.3f\"\n",
    "      % result[result.model == 'SpectralClustering']['Adjusted mutual info score'])\n",
    "\n",
    "print(\"Silhouette Coefficient: %0.3f\"\n",
    "      % result[result.model == 'SpectralClustering']['Silhouette Coefficient'])"
   ]
  },
  {
   "cell_type": "code",
   "execution_count": null,
   "metadata": {},
   "outputs": [],
   "source": [
    "result"
   ]
  },
  {
   "cell_type": "markdown",
   "metadata": {},
   "source": [
    "## DBSCAN"
   ]
  },
  {
   "cell_type": "code",
   "execution_count": null,
   "metadata": {},
   "outputs": [],
   "source": [
    "from sklearn.cluster import DBSCAN\n",
    "\n",
    "plt.figure(figsize= (15,23))\n",
    "i = 1\n",
    "for samples in [1, 3, 5]:\n",
    "    for e in [5, 7, 10, 12, 15]:\n",
    "        dbscan = DBSCAN(eps=e, min_samples=samples)\n",
    "        clusters = dbscan.fit_predict(X_pca)\n",
    "        plt.subplot(6, 3, i)\n",
    "        plt.scatter(X_pca[:,0], X_pca[:,1], c = clusters)\n",
    "        plt.title('eps = {}, min_samples = {}'.format(e, samples))\n",
    "        #plt.colorbar(ticks=clusters)\n",
    "        i += 1\n",
    "    i+=1\n",
    "\n",
    "plt.show()"
   ]
  },
  {
   "cell_type": "code",
   "execution_count": null,
   "metadata": {},
   "outputs": [],
   "source": [
    "dbscan = DBSCAN(eps=12, min_samples=1).fit(X_pca)\n",
    "dbscan.labels_"
   ]
  },
  {
   "cell_type": "code",
   "execution_count": null,
   "metadata": {},
   "outputs": [],
   "source": [
    "plt.figure(figsize=(12,8))\n",
    "plt.scatter(X_pca[:,0], X_pca[:,1], c=dbscan.labels_, s=20, cmap='viridis')\n",
    "plt.xlabel('x')\n",
    "plt.ylabel('y')"
   ]
  },
  {
   "cell_type": "code",
   "execution_count": null,
   "metadata": {},
   "outputs": [],
   "source": [
    "result = result.append(pd.DataFrame([['DBSCAN',\n",
    "                                      metrics.homogeneity_score(y[0], dbscan.labels_),\n",
    "                                      metrics.completeness_score(y[0], dbscan.labels_),\n",
    "                                      metrics.v_measure_score(y[0], dbscan.labels_),\n",
    "                                      metrics.adjusted_rand_score(y[0], dbscan.labels_),\n",
    "                                      metrics.adjusted_mutual_info_score(y[0], dbscan.labels_),\n",
    "                                      metrics.silhouette_score(X_pca, dbscan.labels_, sample_size=1000)]], columns\n",
    "=result.columns),ignore_index=True)\n",
    "\n",
    "print(\"Homogeneity: %0.3f\" % result[result.model == 'DBSCAN']['Homogeneity'])\n",
    "print(\"Completeness: %0.3f\" % result[result.model == 'DBSCAN']['Completeness'])\n",
    "print(\"V-measure: %0.3f\" % result[result.model == 'DBSCAN']['V-measure'])\n",
    "print(\"Adjusted Rand-Index: %.3f\"\n",
    "      % result[result.model == 'DBSCAN']['Adjusted Rand-Index'])\n",
    "print(\"Adjusted mutual info score: %.3f\"\n",
    "      % result[result.model == 'DBSCAN']['Adjusted mutual info score'])\n",
    "\n",
    "print(\"Silhouette Coefficient: %0.3f\"\n",
    "      % result[result.model == 'DBSCAN']['Silhouette Coefficient'])"
   ]
  },
  {
   "cell_type": "code",
   "execution_count": null,
   "metadata": {},
   "outputs": [],
   "source": [
    "result"
   ]
  },
  {
   "cell_type": "markdown",
   "metadata": {},
   "source": [
    "## MeanShift"
   ]
  },
  {
   "cell_type": "code",
   "execution_count": null,
   "metadata": {},
   "outputs": [],
   "source": [
    "ms = MeanShift(cluster_all=True).fit(X_pca)\n",
    "np.unique(ms.labels_)"
   ]
  },
  {
   "cell_type": "code",
   "execution_count": null,
   "metadata": {},
   "outputs": [],
   "source": [
    "plt.figure(figsize=(12,8))\n",
    "plt.scatter(X_pca[:,0], X_pca[:,1], c=ms.labels_, s=20, cmap='viridis')\n",
    "plt.xlabel('x')\n",
    "plt.ylabel('y')"
   ]
  },
  {
   "cell_type": "code",
   "execution_count": null,
   "metadata": {},
   "outputs": [],
   "source": [
    "result = result.append(pd.DataFrame([['MeanShift',\n",
    "                                      metrics.homogeneity_score(y[0], ms.labels_),\n",
    "                                      metrics.completeness_score(y[0], ms.labels_),\n",
    "                                      metrics.v_measure_score(y[0], ms.labels_),\n",
    "                                      metrics.adjusted_rand_score(y[0], ms.labels_),\n",
    "                                      metrics.adjusted_mutual_info_score(y[0], ms.labels_),\n",
    "                                      metrics.silhouette_score(X_pca, ms.labels_, sample_size=1000)]], columns\n",
    "=result.columns),ignore_index=True)\n",
    "\n",
    "print(\"Homogeneity: %0.3f\" % result[result.model == 'MeanShift']['Homogeneity'])\n",
    "print(\"Completeness: %0.3f\" % result[result.model == 'MeanShift']['Completeness'])\n",
    "print(\"V-measure: %0.3f\" % result[result.model == 'MeanShift']['V-measure'])\n",
    "print(\"Adjusted Rand-Index: %.3f\"\n",
    "      % result[result.model == 'MeanShift']['Adjusted Rand-Index'])\n",
    "print(\"Adjusted mutual info score: %.3f\"\n",
    "      % result[result.model == 'MeanShift']['Adjusted mutual info score'])\n",
    "\n",
    "print(\"Silhouette Coefficient: %0.3f\"\n",
    "      % result[result.model == 'MeanShift']['Silhouette Coefficient'])"
   ]
  },
  {
   "cell_type": "code",
   "execution_count": null,
   "metadata": {},
   "outputs": [],
   "source": []
  },
  {
   "cell_type": "code",
   "execution_count": null,
   "metadata": {},
   "outputs": [],
   "source": [
    "result"
   ]
  },
  {
   "cell_type": "markdown",
   "metadata": {},
   "source": [
    "## Выводы"
   ]
  },
  {
   "cell_type": "markdown",
   "metadata": {},
   "source": [
    "Для самой успешной из полученных кластеризаций попробуйте дать интерпретацию кластеров. Опишите характеристики объектов, попавших в каждый кластер. Для этого можете ответить на следующие вопросы:\n",
    "\n",
    "* похожи ли объекты внутри каждого кластера на определенный тип активности человека?\n",
    "* в каких кластерах смешано несколько типов активности? С чем, на ваш взгляд, это может быть связано?\n",
    "* качественная ли получилась кластеризация? На основании чего вы можете сделать такой вывод?"
   ]
  },
  {
   "cell_type": "markdown",
   "metadata": {},
   "source": [
    "**Интерпретация кластеров**"
   ]
  },
  {
   "cell_type": "markdown",
   "metadata": {},
   "source": [
    "Выберем для детального анализа результаты иерархической кластеризации AgglomerativeClustering. Создадим таблицу кластеризации и посмотрим на результаты (метки:\n",
    "1 - ходьбе,\n",
    "2 - подъему вверх по лестнице,\n",
    "3 - спуску по лестнице,\n",
    "4 - сидению,\n",
    "5 - стоянию,\n",
    "6 - лежанию)"
   ]
  },
  {
   "cell_type": "code",
   "execution_count": null,
   "metadata": {},
   "outputs": [],
   "source": [
    "AgglomerativeClusteringResult = pd.crosstab(y[0], ag.labels_, margins=True)\n",
    "AgglomerativeClusteringResult.index = ['ходьба', 'подъем вверх по лестнице', \n",
    "             'спуск по лестнице', 'сидение', 'стояние', 'лежание', 'все']\n",
    "AgglomerativeClusteringResult.columns = ['cluster1','cluster2','cluster3','cluster4','cluster5','cluster6','все']\n",
    "\n",
    "AgglomerativeClusteringResult"
   ]
  },
  {
   "cell_type": "markdown",
   "metadata": {},
   "source": [
    "Глядя на таблицу видно: что алгоритм попытался определить активности, но сделал это очень плохо:\n",
    " - во-первых, один вид активности разбросан по нескольким кластерам,\n",
    " - во-вторых, во всех кластерах, кроме 1, не правильно определен основной класс активности.  \n",
    " \n",
    "В каких-то случаях ошибки можно объяснить, возможно по данным девайсов ходьба и спуск по лестнице похожи, или стояние и лежание. Но например сидение, лежание на мой взгляд сложно перепутать с подъемом вверх по лестнице.\n",
    "\n",
    "Кластеризация получилась некачественная, это видно и по оценкам и по кросс-таблице."
   ]
  },
  {
   "cell_type": "code",
   "execution_count": null,
   "metadata": {},
   "outputs": [],
   "source": []
  }
 ],
 "metadata": {
  "kernelspec": {
   "display_name": "Python 3 (ipykernel)",
   "language": "python",
   "name": "python3"
  },
  "language_info": {
   "codemirror_mode": {
    "name": "ipython",
    "version": 3
   },
   "file_extension": ".py",
   "mimetype": "text/x-python",
   "name": "python",
   "nbconvert_exporter": "python",
   "pygments_lexer": "ipython3",
   "version": "3.8.12"
  },
  "name": "lesson8_part1_kmeans.ipynb",
  "toc": {
   "base_numbering": 1,
   "nav_menu": {},
   "number_sections": true,
   "sideBar": true,
   "skip_h1_title": false,
   "title_cell": "Table of Contents",
   "title_sidebar": "Contents",
   "toc_cell": false,
   "toc_position": {
    "height": "calc(100% - 180px)",
    "left": "10px",
    "top": "150px",
    "width": "253.729px"
   },
   "toc_section_display": true,
   "toc_window_display": true
  },
  "varInspector": {
   "cols": {
    "lenName": 16,
    "lenType": 16,
    "lenVar": 40
   },
   "kernels_config": {
    "python": {
     "delete_cmd_postfix": "",
     "delete_cmd_prefix": "del ",
     "library": "var_list.py",
     "varRefreshCmd": "print(var_dic_list())"
    },
    "r": {
     "delete_cmd_postfix": ") ",
     "delete_cmd_prefix": "rm(",
     "library": "var_list.r",
     "varRefreshCmd": "cat(var_dic_list()) "
    }
   },
   "types_to_exclude": [
    "module",
    "function",
    "builtin_function_or_method",
    "instance",
    "_Feature"
   ],
   "window_display": false
  }
 },
 "nbformat": 4,
 "nbformat_minor": 1
}
