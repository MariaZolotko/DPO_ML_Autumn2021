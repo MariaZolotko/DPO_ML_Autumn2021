{
 "cells": [
  {
   "cell_type": "markdown",
   "metadata": {},
   "source": [
    "# Домашнее задание №3"
   ]
  },
  {
   "cell_type": "markdown",
   "metadata": {},
   "source": [
    "ML workflow"
   ]
  },
  {
   "cell_type": "code",
   "execution_count": 1333,
   "metadata": {},
   "outputs": [],
   "source": [
    "import numpy as np\n",
    "import pandas as pd\n",
    "from sklearn.model_selection import train_test_split, cross_val_score, GridSearchCV\n",
    "\n",
    "from sklearn.linear_model import LinearRegression\n",
    "from sklearn.tree import DecisionTreeRegressor\n",
    "\n",
    "from sklearn.metrics import mean_squared_error, r2_score\n",
    "\n",
    "from sklearn.preprocessing import PolynomialFeatures\n",
    "from sklearn.pipeline import Pipeline\n",
    "\n",
    "from itertools import product"
   ]
  },
  {
   "cell_type": "markdown",
   "metadata": {},
   "source": [
    "### Загрузим данные для работы. "
   ]
  },
  {
   "cell_type": "code",
   "execution_count": 1334,
   "metadata": {},
   "outputs": [
    {
     "data": {
      "text/html": [
       "<div>\n",
       "<style scoped>\n",
       "    .dataframe tbody tr th:only-of-type {\n",
       "        vertical-align: middle;\n",
       "    }\n",
       "\n",
       "    .dataframe tbody tr th {\n",
       "        vertical-align: top;\n",
       "    }\n",
       "\n",
       "    .dataframe thead th {\n",
       "        text-align: right;\n",
       "    }\n",
       "</style>\n",
       "<table border=\"1\" class=\"dataframe\">\n",
       "  <thead>\n",
       "    <tr style=\"text-align: right;\">\n",
       "      <th></th>\n",
       "      <th>fixed acidity</th>\n",
       "      <th>volatile acidity</th>\n",
       "      <th>citric acid</th>\n",
       "      <th>residual sugar</th>\n",
       "      <th>chlorides</th>\n",
       "      <th>free sulfur dioxide</th>\n",
       "      <th>total sulfur dioxide</th>\n",
       "      <th>density</th>\n",
       "      <th>pH</th>\n",
       "      <th>sulphates</th>\n",
       "      <th>alcohol</th>\n",
       "      <th>quality</th>\n",
       "    </tr>\n",
       "  </thead>\n",
       "  <tbody>\n",
       "    <tr>\n",
       "      <th>0</th>\n",
       "      <td>7.4</td>\n",
       "      <td>0.70</td>\n",
       "      <td>0.00</td>\n",
       "      <td>1.9</td>\n",
       "      <td>0.076</td>\n",
       "      <td>11.0</td>\n",
       "      <td>34.0</td>\n",
       "      <td>0.9978</td>\n",
       "      <td>3.51</td>\n",
       "      <td>0.56</td>\n",
       "      <td>9.4</td>\n",
       "      <td>5</td>\n",
       "    </tr>\n",
       "    <tr>\n",
       "      <th>1</th>\n",
       "      <td>7.8</td>\n",
       "      <td>0.88</td>\n",
       "      <td>0.00</td>\n",
       "      <td>2.6</td>\n",
       "      <td>0.098</td>\n",
       "      <td>25.0</td>\n",
       "      <td>67.0</td>\n",
       "      <td>0.9968</td>\n",
       "      <td>3.20</td>\n",
       "      <td>0.68</td>\n",
       "      <td>9.8</td>\n",
       "      <td>5</td>\n",
       "    </tr>\n",
       "    <tr>\n",
       "      <th>2</th>\n",
       "      <td>7.8</td>\n",
       "      <td>0.76</td>\n",
       "      <td>0.04</td>\n",
       "      <td>2.3</td>\n",
       "      <td>0.092</td>\n",
       "      <td>15.0</td>\n",
       "      <td>54.0</td>\n",
       "      <td>0.9970</td>\n",
       "      <td>3.26</td>\n",
       "      <td>0.65</td>\n",
       "      <td>9.8</td>\n",
       "      <td>5</td>\n",
       "    </tr>\n",
       "    <tr>\n",
       "      <th>3</th>\n",
       "      <td>11.2</td>\n",
       "      <td>0.28</td>\n",
       "      <td>0.56</td>\n",
       "      <td>1.9</td>\n",
       "      <td>0.075</td>\n",
       "      <td>17.0</td>\n",
       "      <td>60.0</td>\n",
       "      <td>0.9980</td>\n",
       "      <td>3.16</td>\n",
       "      <td>0.58</td>\n",
       "      <td>9.8</td>\n",
       "      <td>6</td>\n",
       "    </tr>\n",
       "    <tr>\n",
       "      <th>4</th>\n",
       "      <td>7.4</td>\n",
       "      <td>0.70</td>\n",
       "      <td>0.00</td>\n",
       "      <td>1.9</td>\n",
       "      <td>0.076</td>\n",
       "      <td>11.0</td>\n",
       "      <td>34.0</td>\n",
       "      <td>0.9978</td>\n",
       "      <td>3.51</td>\n",
       "      <td>0.56</td>\n",
       "      <td>9.4</td>\n",
       "      <td>5</td>\n",
       "    </tr>\n",
       "  </tbody>\n",
       "</table>\n",
       "</div>"
      ],
      "text/plain": [
       "   fixed acidity  volatile acidity  citric acid  residual sugar  chlorides  \\\n",
       "0            7.4              0.70         0.00             1.9      0.076   \n",
       "1            7.8              0.88         0.00             2.6      0.098   \n",
       "2            7.8              0.76         0.04             2.3      0.092   \n",
       "3           11.2              0.28         0.56             1.9      0.075   \n",
       "4            7.4              0.70         0.00             1.9      0.076   \n",
       "\n",
       "   free sulfur dioxide  total sulfur dioxide  density    pH  sulphates  \\\n",
       "0                 11.0                  34.0   0.9978  3.51       0.56   \n",
       "1                 25.0                  67.0   0.9968  3.20       0.68   \n",
       "2                 15.0                  54.0   0.9970  3.26       0.65   \n",
       "3                 17.0                  60.0   0.9980  3.16       0.58   \n",
       "4                 11.0                  34.0   0.9978  3.51       0.56   \n",
       "\n",
       "   alcohol  quality  \n",
       "0      9.4        5  \n",
       "1      9.8        5  \n",
       "2      9.8        5  \n",
       "3      9.8        6  \n",
       "4      9.4        5  "
      ]
     },
     "execution_count": 1334,
     "metadata": {},
     "output_type": "execute_result"
    }
   ],
   "source": [
    "df = pd.read_csv(\"winequality-red.csv\")\n",
    "df.head()"
   ]
  },
  {
   "cell_type": "code",
   "execution_count": 1335,
   "metadata": {},
   "outputs": [
    {
     "name": "stdout",
     "output_type": "stream",
     "text": [
      "<class 'pandas.core.frame.DataFrame'>\n",
      "RangeIndex: 1599 entries, 0 to 1598\n",
      "Data columns (total 12 columns):\n",
      " #   Column                Non-Null Count  Dtype  \n",
      "---  ------                --------------  -----  \n",
      " 0   fixed acidity         1599 non-null   float64\n",
      " 1   volatile acidity      1599 non-null   float64\n",
      " 2   citric acid           1599 non-null   float64\n",
      " 3   residual sugar        1599 non-null   float64\n",
      " 4   chlorides             1599 non-null   float64\n",
      " 5   free sulfur dioxide   1599 non-null   float64\n",
      " 6   total sulfur dioxide  1599 non-null   float64\n",
      " 7   density               1599 non-null   float64\n",
      " 8   pH                    1599 non-null   float64\n",
      " 9   sulphates             1599 non-null   float64\n",
      " 10  alcohol               1599 non-null   float64\n",
      " 11  quality               1599 non-null   int64  \n",
      "dtypes: float64(11), int64(1)\n",
      "memory usage: 150.0 KB\n"
     ]
    }
   ],
   "source": [
    "df.info()"
   ]
  },
  {
   "cell_type": "code",
   "execution_count": 1336,
   "metadata": {},
   "outputs": [
    {
     "data": {
      "text/plain": [
       "(1599, 12)"
      ]
     },
     "execution_count": 1336,
     "metadata": {},
     "output_type": "execute_result"
    }
   ],
   "source": [
    "df.shape"
   ]
  },
  {
   "cell_type": "markdown",
   "metadata": {},
   "source": [
    "Будем решать задачу регрессии: необходимо предсказать качество вина на основе его характеристик\n",
    "\n",
    "### Шаг 1.  (**0.4 балла**)\n",
    "Создайте матрицу X объект-признак и целевой вектор y (\"quality\")"
   ]
  },
  {
   "cell_type": "code",
   "execution_count": 1337,
   "metadata": {},
   "outputs": [],
   "source": [
    "y=df[['quality']]\n",
    "X=df.drop(['quality'],axis=1)"
   ]
  },
  {
   "cell_type": "code",
   "execution_count": 1338,
   "metadata": {},
   "outputs": [
    {
     "data": {
      "text/plain": [
       "(1599, 11)"
      ]
     },
     "execution_count": 1338,
     "metadata": {},
     "output_type": "execute_result"
    }
   ],
   "source": [
    "X.shape"
   ]
  },
  {
   "cell_type": "markdown",
   "metadata": {},
   "source": [
    "### Шаг 2. (**0.4 балла**)\n",
    "Разбейте данные на train и test (доля тестовых данных - 30%)."
   ]
  },
  {
   "cell_type": "code",
   "execution_count": 1339,
   "metadata": {},
   "outputs": [],
   "source": [
    "Xtrain,Xtest,ytrain,ytest=train_test_split(X,y,test_size=0.3,random_state=100)"
   ]
  },
  {
   "cell_type": "markdown",
   "metadata": {},
   "source": [
    "### Шаг 3. (**0.4 балла**)\n",
    "Обучите линейную регрессию на тренировочных данных и сделайте предсказания на train и на test."
   ]
  },
  {
   "cell_type": "code",
   "execution_count": 1340,
   "metadata": {},
   "outputs": [],
   "source": [
    "model=LinearRegression()\n",
    "\n",
    "model.fit(Xtrain,ytrain)\n",
    "\n",
    "pred_train=model.predict(Xtrain)\n",
    "pred_test=model.predict(Xtest)\n"
   ]
  },
  {
   "cell_type": "markdown",
   "metadata": {},
   "source": [
    "### Шаг 4. (**0.8 балла**)\n",
    "Выведите на экран ошибку MSE на train и на test, затем выведите на экран ошибку r2 на train и test.  "
   ]
  },
  {
   "cell_type": "code",
   "execution_count": 1341,
   "metadata": {},
   "outputs": [
    {
     "name": "stdout",
     "output_type": "stream",
     "text": [
      "Model:            LinearRegression\n",
      "Model selection:  train_test_split\n",
      "-----------------------------------\n",
      "                                                  \n",
      "MSE train:        0.4082281005947586\n",
      "MSE test:         0.44445458849751956\n",
      "                                                  \n",
      "r2 train:         0.37898509241852474\n",
      "r2 test:          0.3039536623856137\n"
     ]
    }
   ],
   "source": [
    "print(f'Model:            LinearRegression')\n",
    "print(f'Model selection:  train_test_split')\n",
    "print(f'-----------------------------------')\n",
    "print(f'                                                  ')\n",
    "print(f'MSE train:        {mean_squared_error(ytrain,pred_train)}')\n",
    "print(f'MSE test:         {mean_squared_error(ytest,pred_test)}')\n",
    "print(f'                                                  ')\n",
    "print(f'r2 train:         {r2_score(ytrain,pred_train)}')\n",
    "print(f'r2 test:          {r2_score(ytest,pred_test)}')\n"
   ]
  },
  {
   "cell_type": "markdown",
   "metadata": {},
   "source": [
    "### Шаг 5. (**1 балл**)\n",
    "Вычислите среднее качество (r2) модели на кросс-валидации с k=5 фолдами."
   ]
  },
  {
   "cell_type": "code",
   "execution_count": 1342,
   "metadata": {},
   "outputs": [
    {
     "name": "stdout",
     "output_type": "stream",
     "text": [
      "Model:            LinearRegression\n",
      "Model selection:  cross_val_score\n",
      "-----------------------------------\n",
      "                                \n",
      "r2:              0.29004162884219614\n"
     ]
    }
   ],
   "source": [
    "result=cross_val_score(LinearRegression(),X,y,cv=5,scoring='r2')\n",
    "\n",
    "print(f'Model:            LinearRegression')\n",
    "print(f'Model selection:  cross_val_score')\n",
    "print(f'-----------------------------------')\n",
    "print(f'                                ')\n",
    "print(f'r2:              {result.mean()}')"
   ]
  },
  {
   "cell_type": "markdown",
   "metadata": {},
   "source": [
    "### Шаг 6.  (**1 балл**)\n",
    "Теперь примените линейную регрессию с L1-регуляризацией (Lasso) для данной задачи. Объявите модель и подберите параметр регуляризации alpha по сетке. Ищите alpha в диапазоне (0.1, 1.1) с шагом 0.1. \n",
    "\n",
    "Осуществите подбор параметра alpha по тренировочным данным (Xtrain, ytrain)."
   ]
  },
  {
   "cell_type": "code",
   "execution_count": 1343,
   "metadata": {},
   "outputs": [
    {
     "data": {
      "text/plain": [
       "GridSearchCV(cv=5, estimator=Lasso(),\n",
       "             param_grid={'alpha': array([0.1, 0.2, 0.3, 0.4, 0.5, 0.6, 0.7, 0.8, 0.9, 1. , 1.1])},\n",
       "             scoring='r2')"
      ]
     },
     "execution_count": 1343,
     "metadata": {},
     "output_type": "execute_result"
    }
   ],
   "source": [
    "from sklearn.linear_model import Lasso\n",
    "\n",
    "lasso_alphas = np.linspace(0.1, 1.1, num=11)\n",
    "grid = dict()\n",
    "grid['alpha'] = lasso_alphas\n",
    "\n",
    "gs=GridSearchCV(Lasso(),grid,scoring='r2', cv=5)\n",
    "gs.fit(Xtrain, ytrain)\n"
   ]
  },
  {
   "cell_type": "markdown",
   "metadata": {},
   "source": [
    "тут я засомневала и решила перепроверить, что альфа подбирается"
   ]
  },
  {
   "cell_type": "code",
   "execution_count": 1344,
   "metadata": {},
   "outputs": [],
   "source": [
    "lasso_scores = []\n",
    "lasso = Lasso()\n",
    "for alpha in lasso_alphas:\n",
    "    lasso.alpha = alpha\n",
    "    val = np.mean(cross_val_score(lasso, X, y, cv = 5))\n",
    "    lasso_scores.append(val)"
   ]
  },
  {
   "cell_type": "code",
   "execution_count": 1345,
   "metadata": {},
   "outputs": [
    {
     "data": {
      "image/png": "[encoded data removed]",
      "text/plain": [
       "<Figure size 360x360 with 1 Axes>"
      ]
     },
     "metadata": {
      "needs_background": "light"
     },
     "output_type": "display_data"
    }
   ],
   "source": [
    "import matplotlib.pyplot as plt\n",
    "\n",
    "plt.figure(figsize=(5, 5))\n",
    "plt.plot(alpha_space, lasso_scores, marker = 'D', label = \"Lasso\")\n",
    "plt.legend()\n",
    "plt.grid()\n",
    "plt.show()"
   ]
  },
  {
   "cell_type": "markdown",
   "metadata": {},
   "source": [
    "На приведенном выше графике мы видим, что точность снижается с увеличением значения альфа"
   ]
  },
  {
   "cell_type": "markdown",
   "metadata": {},
   "source": [
    "### Шаг 7.  (**1 балл**)\n",
    "Выведите наилучший алгоритм и наилучшее качество по результатам подбора alpha (best_estimator_ и best_score_)."
   ]
  },
  {
   "cell_type": "code",
   "execution_count": 1346,
   "metadata": {},
   "outputs": [
    {
     "name": "stdout",
     "output_type": "stream",
     "text": [
      "Model:            Lasso\n",
      "Model selection:  GridSearchCV\n",
      "-----------------------------------\n",
      "                                \n",
      "best_estimator_ :  Lasso(alpha=0.1)\n",
      "best_score_:       0.24428058897294025\n"
     ]
    }
   ],
   "source": [
    "print(f'Model:            Lasso')\n",
    "print(f'Model selection:  GridSearchCV')\n",
    "print(f'-----------------------------------')\n",
    "print(f'                                ')\n",
    "print(f'best_estimator_ :  {gs.best_estimator_}')\n",
    "print(f'best_score_:       {gs.best_score_}')"
   ]
  },
  {
   "cell_type": "markdown",
   "metadata": {},
   "source": [
    "### Шаг 8.  (**1 балл**)\n",
    "\n",
    "С помощью найденного best_estimator_ сделайте предсказание на тестовых данных и выведите на экран r2-score на тесте."
   ]
  },
  {
   "cell_type": "code",
   "execution_count": 1347,
   "metadata": {},
   "outputs": [
    {
     "name": "stdout",
     "output_type": "stream",
     "text": [
      "Model:            Lasso\n",
      "-----------------------------------\n",
      "                                \n",
      "r2 test:  0.2145088950726889\n"
     ]
    }
   ],
   "source": [
    "lasso=Lasso(alpha=0.1)\n",
    "lasso.fit(Xtrain,ytrain)\n",
    "\n",
    "pred_test_lasso=lasso.predict(Xtest)\n",
    "\n",
    "print(f'Model:            Lasso')\n",
    "print(f'-----------------------------------')\n",
    "print(f'                                ')\n",
    "print(f'r2 test:  {r2_score(ytest,pred_test_lasso)}')\n"
   ]
  },
  {
   "cell_type": "markdown",
   "metadata": {},
   "source": [
    "### Шаг 9.  (**1 балл**)\n",
    "\n",
    "Попробуем улучшить качество модели за счет добавления полиномиальных признаков. Создайте pipeline, состоящий из добавления полиномиальных признаков степени 2, а затем применения линейной регрессии.\n",
    "\n",
    "Затем вычислите r2-score этой модели на кросс валидации с пятью фолдами."
   ]
  },
  {
   "cell_type": "code",
   "execution_count": 1348,
   "metadata": {},
   "outputs": [
    {
     "name": "stdout",
     "output_type": "stream",
     "text": [
      "Model:            LinearRegression\n",
      "Model selection:  pipe\n",
      "-----------------------------------\n",
      "                                \n",
      "r2:             0.23009616842663996\n"
     ]
    }
   ],
   "source": [
    "from sklearn.preprocessing import StandardScaler\n",
    "\n",
    "pipe = Pipeline([\n",
    "    ('scaler_', PolynomialFeatures(degree = 2)),\n",
    "    ('model_', LinearRegression())\n",
    "    ])\n",
    "result=cross_val_score(pipe, X, y, cv=5,scoring='r2',n_jobs=-1)\n",
    "print(f'Model:            LinearRegression')\n",
    "print(f'Model selection:  pipe')\n",
    "print(f'-----------------------------------')\n",
    "print(f'                                ')\n",
    "print(f'r2:             {result.mean()}')"
   ]
  },
  {
   "cell_type": "markdown",
   "metadata": {},
   "source": [
    "Найдем корреляцию с целевой переменной, чтобы сделать выводы о влиянии добавления полимомиальных признаков"
   ]
  },
  {
   "cell_type": "markdown",
   "metadata": {},
   "source": [
    "### Шаг 10.  (**1 балл**)\n",
    "Обучите модель (pipeline) на тренировочных данных и сделайте предсказания для train и test, затем выведите на экран r2-score и MSE на тренировочных и на тестовых данных."
   ]
  },
  {
   "cell_type": "code",
   "execution_count": 1349,
   "metadata": {},
   "outputs": [
    {
     "name": "stdout",
     "output_type": "stream",
     "text": [
      "Model:            LinearRegression\n",
      "Model selection:  pipe\n",
      "-----------------------------------\n",
      "                                                  \n",
      "MSE train:        0.3632079997003106\n",
      "MSE test:         0.41497054465813765\n",
      "                                                  \n",
      "r2 train:         0.44747169036595014\n",
      "r2 test:          0.35012769515201936\n"
     ]
    }
   ],
   "source": [
    "pipe.fit(Xtrain,ytrain)\n",
    "\n",
    "pred_pipe_train=pipe.predict(Xtrain)\n",
    "pred_pipe_test=pipe.predict(Xtest)\n",
    "\n",
    "print(f'Model:            LinearRegression')\n",
    "print(f'Model selection:  pipe')\n",
    "print(f'-----------------------------------')\n",
    "print(f'                                                  ')\n",
    "print(f'MSE train:        {mean_squared_error(ytrain,pred_pipe_train)}')\n",
    "print(f'MSE test:         {mean_squared_error(ytest,pred_pipe_test)}')\n",
    "print(f'                                                  ')\n",
    "print(f'r2 train:         {r2_score(ytrain,pred_pipe_train)}')\n",
    "print(f'r2 test:          {r2_score(ytest,pred_pipe_test)}')\n"
   ]
  },
  {
   "cell_type": "markdown",
   "metadata": {},
   "source": [
    "### Сделайте выводы. Для этого ответьте на вопросы: (**2 балла**)\n",
    "\n",
    "1) Хорошее ли качество показала исходная модель (линейная регрессия без регуляризации)? Является ли эта модель переобученной?\n",
    "\n",
    "2) Помогла ли L1-регуляризация улучшить качество модели?\n",
    "\n",
    "3) Помогло ли добавление полиномов второй степени улучшить качество модели? Как добавление новых признаков повлияло на переобучение?"
   ]
  },
  {
   "cell_type": "markdown",
   "metadata": {},
   "source": [
    "1. Качество исходной модели плохое, использовать его в продакшен не получится. Как на обучающей выборке, так и на тестовой выборке небольшая средняя ошибка не достигается (MSE train:0.408,MSE test: 0.444). Так же модель не является переобученой, тк при переобучении небольшая средняя ошибка на обучающей выборке не обеспечивает такую же малую ошибку на тестовой выборке. Средняя ошибка не сильно отличается  между обучающей и тестовой выборками.\n",
    "\n",
    "2. L1-регуляризация ухудшело качество модели, исходная оценка на тесте r2: 0.304, после L1-регуляризации r2 стал: 0.215.\n",
    "3. Несмотря на то, что добавление полиномов второй степени улучшило качество модели (MSE train: 0.363, MSE test: 0.41497), в целом ее качество все еще плохое. Добавление новых признаков переобучения не вызвало."
   ]
  },
  {
   "cell_type": "markdown",
   "metadata": {},
   "source": [
    "### *Попытайтесь улучшить модель (добейтесь наилучшего качества) - можно использовать любые методы."
   ]
  },
  {
   "cell_type": "markdown",
   "metadata": {},
   "source": [
    "При улучшении качества r2 на 0.1-0.2 +1 балл, при большем улучшении +2 балла (дополнительно к 10 баллам за основную часть)."
   ]
  },
  {
   "cell_type": "markdown",
   "metadata": {},
   "source": [
    "<b>1. При кросс-валидации видно, что оценки очень отличаются для разных фолдов, попробуем хорошо перемешать данные.</b>"
   ]
  },
  {
   "cell_type": "code",
   "execution_count": 1350,
   "metadata": {},
   "outputs": [],
   "source": [
    "y=df[['quality']]\n",
    "X=df.drop(['quality'],axis=1)"
   ]
  },
  {
   "cell_type": "code",
   "execution_count": 1351,
   "metadata": {},
   "outputs": [
    {
     "name": "stdout",
     "output_type": "stream",
     "text": [
      "Model:            LinearRegression\n",
      "Model selection:  cross_val_score\n",
      "-----------------------------------\n",
      "Step:             1. ShuffleSplit\n",
      "-----------------------------------\n",
      "                                   \n",
      "MSE:             0.39378803292394293\n",
      "r2:              0.36692098734494244\n"
     ]
    }
   ],
   "source": [
    "from sklearn.model_selection import ShuffleSplit\n",
    "\n",
    "cv = ShuffleSplit(n_splits=5, test_size=0.3, random_state=0)\n",
    "result_r2=cross_val_score(LinearRegression(),X,y,cv=cv,scoring='r2')\n",
    "result_mse=-cross_val_score(LinearRegression(),X,y,cv=cv,scoring='neg_mean_squared_error')\n",
    "\n",
    "print(f'Model:            LinearRegression')\n",
    "print(f'Model selection:  cross_val_score')\n",
    "print(f'-----------------------------------')\n",
    "print(f'Step:             1. ShuffleSplit')\n",
    "print(f'-----------------------------------')\n",
    "print(f'                                   ')\n",
    "print(f'MSE:             {result_mse.mean()}')\n",
    "print(f'r2:              {result_r2.mean()}')"
   ]
  },
  {
   "cell_type": "markdown",
   "metadata": {},
   "source": [
    "<b>Вывод:</b> Применение ShuffleSplit() улучшаяет качество модели, оставим в итоговой моделе"
   ]
  },
  {
   "cell_type": "markdown",
   "metadata": {},
   "source": [
    "<b>2. Промасштабируем значения наших признаков(train,test и кроссвалидация)</b>"
   ]
  },
  {
   "cell_type": "code",
   "execution_count": 1352,
   "metadata": {},
   "outputs": [],
   "source": [
    "Xtrain,Xtest,ytrain,ytest=train_test_split(X,y,test_size=0.3,random_state=100)"
   ]
  },
  {
   "cell_type": "code",
   "execution_count": 1353,
   "metadata": {},
   "outputs": [
    {
     "name": "stdout",
     "output_type": "stream",
     "text": [
      "Model:            LinearRegression\n",
      "Model selection:  train_test_split\n",
      "Step:             2.  StandardScaler\n",
      "-----------------------------------\n",
      "                                                  \n",
      "MSE train:        0.4082281005947586\n",
      "MSE test:         0.44445458849751796\n",
      "                                                  \n",
      "r2 train:         0.3789850924185246\n",
      "r2 test:          0.3039536623856163\n"
     ]
    }
   ],
   "source": [
    "from sklearn.preprocessing import StandardScaler\n",
    "\n",
    "scaler = StandardScaler()\n",
    "scaler.fit_transform(Xtrain)\n",
    "X_test_scaled = scaler.transform(Xtest)\n",
    "X_train_scaled = scaler.transform(Xtrain)\n",
    "\n",
    "model = LinearRegression()\n",
    "\n",
    "model.fit(X_train_scaled, ytrain)\n",
    "\n",
    "y_pred = model.predict(X_test_scaled)\n",
    "y_train_pred = model.predict(X_train_scaled)\n",
    "\n",
    "print(f'Model:            LinearRegression')\n",
    "print(f'Model selection:  train_test_split')\n",
    "print(f'Step:             2.  StandardScaler')\n",
    "print(f'-----------------------------------')\n",
    "print(f'                                                  ')\n",
    "print(f'MSE train:        {mean_squared_error(ytrain,pred_train)}')\n",
    "print(f'MSE test:         {mean_squared_error(ytest,y_pred)}')\n",
    "print(f'                                                  ')\n",
    "print(f'r2 train:         {r2_score(ytrain, y_train_pred)}')\n",
    "print(f'r2 test:          {r2_score(ytest, y_pred)}')"
   ]
  },
  {
   "cell_type": "code",
   "execution_count": 1354,
   "metadata": {},
   "outputs": [
    {
     "name": "stdout",
     "output_type": "stream",
     "text": [
      "Model:            LinearRegression\n",
      "Model selection:  cross_val_score\n",
      "-----------------------------------\n",
      "Step:             2.  StandardScaler\n",
      "-----------------------------------\n",
      "                                                  \n",
      "MSE:        0.393788032923943\n",
      "r2:         0.3669209873449425\n"
     ]
    }
   ],
   "source": [
    "pipe = Pipeline([\n",
    "    ('scaler_', StandardScaler()),\n",
    "    ('model_', LinearRegression())\n",
    "    ])\n",
    "\n",
    "\n",
    "result_r2=cross_val_score(pipe,X,y,cv=cv,scoring='r2')\n",
    "result_mse=-cross_val_score(pipe,X,y,cv=cv,scoring='neg_mean_squared_error')\n",
    "\n",
    "\n",
    "print(f'Model:            LinearRegression')\n",
    "print(f'Model selection:  cross_val_score')\n",
    "print(f'-----------------------------------')\n",
    "print(f'Step:             2.  StandardScaler')\n",
    "print(f'-----------------------------------')\n",
    "print(f'                                                  ')\n",
    "print(f'MSE:        {result_mse.mean()}')\n",
    "print(f'r2:         {result_r2.mean()}')"
   ]
  },
  {
   "cell_type": "markdown",
   "metadata": {},
   "source": [
    "<b>Вывод:</b> масштабирование значений признаков с помощью StandardScaler() никак не повлияло на качество модели, в дальнейшем применять не будем."
   ]
  },
  {
   "cell_type": "markdown",
   "metadata": {},
   "source": [
    "<b>3. Посмотрим корреляцию между признаками:\n",
    "3.1 удалим признаки, которые мало коррелируют с целевой переменной\n",
    "3.2 удалим признаки, которые сильно коррелируют с другими, но мало коррелируют с целевой переменной\n",
    "3.3 создадим новые признаки, возведем в степень 2 признаки с наибольшей корреляцией на целевую переменную</b>"
   ]
  },
  {
   "cell_type": "code",
   "execution_count": 1355,
   "metadata": {},
   "outputs": [
    {
     "data": {
      "text/plain": [
       "<matplotlib.axes._subplots.AxesSubplot at 0x279f7fb9460>"
      ]
     },
     "execution_count": 1355,
     "metadata": {},
     "output_type": "execute_result"
    },
    {
     "data": {
      "image/png": "[encoded data removed]",
      "text/plain": [
       "<Figure size 432x288 with 2 Axes>"
      ]
     },
     "metadata": {
      "needs_background": "light"
     },
     "output_type": "display_data"
    }
   ],
   "source": [
    "import seaborn as sns\n",
    "\n",
    "corr = df.corr()\n",
    "\n",
    "sns.heatmap(corr, \n",
    "            xticklabels=corr.columns.values,\n",
    "            yticklabels=corr.columns.values,\n",
    "            cmap=\"PiYG\")"
   ]
  },
  {
   "cell_type": "code",
   "execution_count": 1356,
   "metadata": {},
   "outputs": [
    {
     "data": {
      "text/html": [
       "<div>\n",
       "<style scoped>\n",
       "    .dataframe tbody tr th:only-of-type {\n",
       "        vertical-align: middle;\n",
       "    }\n",
       "\n",
       "    .dataframe tbody tr th {\n",
       "        vertical-align: top;\n",
       "    }\n",
       "\n",
       "    .dataframe thead th {\n",
       "        text-align: right;\n",
       "    }\n",
       "</style>\n",
       "<table border=\"1\" class=\"dataframe\">\n",
       "  <thead>\n",
       "    <tr style=\"text-align: right;\">\n",
       "      <th></th>\n",
       "      <th>fixed acidity</th>\n",
       "      <th>volatile acidity</th>\n",
       "      <th>citric acid</th>\n",
       "      <th>residual sugar</th>\n",
       "      <th>chlorides</th>\n",
       "      <th>free sulfur dioxide</th>\n",
       "      <th>total sulfur dioxide</th>\n",
       "      <th>density</th>\n",
       "      <th>pH</th>\n",
       "      <th>sulphates</th>\n",
       "      <th>alcohol</th>\n",
       "      <th>quality</th>\n",
       "    </tr>\n",
       "  </thead>\n",
       "  <tbody>\n",
       "    <tr>\n",
       "      <th>fixed acidity</th>\n",
       "      <td>1.000000</td>\n",
       "      <td>-0.256131</td>\n",
       "      <td>0.671703</td>\n",
       "      <td>0.114777</td>\n",
       "      <td>0.093705</td>\n",
       "      <td>-0.153794</td>\n",
       "      <td>-0.113181</td>\n",
       "      <td>0.668047</td>\n",
       "      <td>-0.682978</td>\n",
       "      <td>0.183006</td>\n",
       "      <td>-0.061668</td>\n",
       "      <td>0.124052</td>\n",
       "    </tr>\n",
       "    <tr>\n",
       "      <th>volatile acidity</th>\n",
       "      <td>-0.256131</td>\n",
       "      <td>1.000000</td>\n",
       "      <td>-0.552496</td>\n",
       "      <td>0.001918</td>\n",
       "      <td>0.061298</td>\n",
       "      <td>-0.010504</td>\n",
       "      <td>0.076470</td>\n",
       "      <td>0.022026</td>\n",
       "      <td>0.234937</td>\n",
       "      <td>-0.260987</td>\n",
       "      <td>-0.202288</td>\n",
       "      <td>-0.390558</td>\n",
       "    </tr>\n",
       "    <tr>\n",
       "      <th>citric acid</th>\n",
       "      <td>0.671703</td>\n",
       "      <td>-0.552496</td>\n",
       "      <td>1.000000</td>\n",
       "      <td>0.143577</td>\n",
       "      <td>0.203823</td>\n",
       "      <td>-0.060978</td>\n",
       "      <td>0.035533</td>\n",
       "      <td>0.364947</td>\n",
       "      <td>-0.541904</td>\n",
       "      <td>0.312770</td>\n",
       "      <td>0.109903</td>\n",
       "      <td>0.226373</td>\n",
       "    </tr>\n",
       "    <tr>\n",
       "      <th>residual sugar</th>\n",
       "      <td>0.114777</td>\n",
       "      <td>0.001918</td>\n",
       "      <td>0.143577</td>\n",
       "      <td>1.000000</td>\n",
       "      <td>0.055610</td>\n",
       "      <td>0.187049</td>\n",
       "      <td>0.203028</td>\n",
       "      <td>0.355283</td>\n",
       "      <td>-0.085652</td>\n",
       "      <td>0.005527</td>\n",
       "      <td>0.042075</td>\n",
       "      <td>0.013732</td>\n",
       "    </tr>\n",
       "    <tr>\n",
       "      <th>chlorides</th>\n",
       "      <td>0.093705</td>\n",
       "      <td>0.061298</td>\n",
       "      <td>0.203823</td>\n",
       "      <td>0.055610</td>\n",
       "      <td>1.000000</td>\n",
       "      <td>0.005562</td>\n",
       "      <td>0.047400</td>\n",
       "      <td>0.200632</td>\n",
       "      <td>-0.265026</td>\n",
       "      <td>0.371260</td>\n",
       "      <td>-0.221141</td>\n",
       "      <td>-0.128907</td>\n",
       "    </tr>\n",
       "    <tr>\n",
       "      <th>free sulfur dioxide</th>\n",
       "      <td>-0.153794</td>\n",
       "      <td>-0.010504</td>\n",
       "      <td>-0.060978</td>\n",
       "      <td>0.187049</td>\n",
       "      <td>0.005562</td>\n",
       "      <td>1.000000</td>\n",
       "      <td>0.667666</td>\n",
       "      <td>-0.021946</td>\n",
       "      <td>0.070377</td>\n",
       "      <td>0.051658</td>\n",
       "      <td>-0.069408</td>\n",
       "      <td>-0.050656</td>\n",
       "    </tr>\n",
       "    <tr>\n",
       "      <th>total sulfur dioxide</th>\n",
       "      <td>-0.113181</td>\n",
       "      <td>0.076470</td>\n",
       "      <td>0.035533</td>\n",
       "      <td>0.203028</td>\n",
       "      <td>0.047400</td>\n",
       "      <td>0.667666</td>\n",
       "      <td>1.000000</td>\n",
       "      <td>0.071269</td>\n",
       "      <td>-0.066495</td>\n",
       "      <td>0.042947</td>\n",
       "      <td>-0.205654</td>\n",
       "      <td>-0.185100</td>\n",
       "    </tr>\n",
       "    <tr>\n",
       "      <th>density</th>\n",
       "      <td>0.668047</td>\n",
       "      <td>0.022026</td>\n",
       "      <td>0.364947</td>\n",
       "      <td>0.355283</td>\n",
       "      <td>0.200632</td>\n",
       "      <td>-0.021946</td>\n",
       "      <td>0.071269</td>\n",
       "      <td>1.000000</td>\n",
       "      <td>-0.341699</td>\n",
       "      <td>0.148506</td>\n",
       "      <td>-0.496180</td>\n",
       "      <td>-0.174919</td>\n",
       "    </tr>\n",
       "    <tr>\n",
       "      <th>pH</th>\n",
       "      <td>-0.682978</td>\n",
       "      <td>0.234937</td>\n",
       "      <td>-0.541904</td>\n",
       "      <td>-0.085652</td>\n",
       "      <td>-0.265026</td>\n",
       "      <td>0.070377</td>\n",
       "      <td>-0.066495</td>\n",
       "      <td>-0.341699</td>\n",
       "      <td>1.000000</td>\n",
       "      <td>-0.196648</td>\n",
       "      <td>0.205633</td>\n",
       "      <td>-0.057731</td>\n",
       "    </tr>\n",
       "    <tr>\n",
       "      <th>sulphates</th>\n",
       "      <td>0.183006</td>\n",
       "      <td>-0.260987</td>\n",
       "      <td>0.312770</td>\n",
       "      <td>0.005527</td>\n",
       "      <td>0.371260</td>\n",
       "      <td>0.051658</td>\n",
       "      <td>0.042947</td>\n",
       "      <td>0.148506</td>\n",
       "      <td>-0.196648</td>\n",
       "      <td>1.000000</td>\n",
       "      <td>0.093595</td>\n",
       "      <td>0.251397</td>\n",
       "    </tr>\n",
       "    <tr>\n",
       "      <th>alcohol</th>\n",
       "      <td>-0.061668</td>\n",
       "      <td>-0.202288</td>\n",
       "      <td>0.109903</td>\n",
       "      <td>0.042075</td>\n",
       "      <td>-0.221141</td>\n",
       "      <td>-0.069408</td>\n",
       "      <td>-0.205654</td>\n",
       "      <td>-0.496180</td>\n",
       "      <td>0.205633</td>\n",
       "      <td>0.093595</td>\n",
       "      <td>1.000000</td>\n",
       "      <td>0.476166</td>\n",
       "    </tr>\n",
       "    <tr>\n",
       "      <th>quality</th>\n",
       "      <td>0.124052</td>\n",
       "      <td>-0.390558</td>\n",
       "      <td>0.226373</td>\n",
       "      <td>0.013732</td>\n",
       "      <td>-0.128907</td>\n",
       "      <td>-0.050656</td>\n",
       "      <td>-0.185100</td>\n",
       "      <td>-0.174919</td>\n",
       "      <td>-0.057731</td>\n",
       "      <td>0.251397</td>\n",
       "      <td>0.476166</td>\n",
       "      <td>1.000000</td>\n",
       "    </tr>\n",
       "  </tbody>\n",
       "</table>\n",
       "</div>"
      ],
      "text/plain": [
       "                      fixed acidity  volatile acidity  citric acid  \\\n",
       "fixed acidity              1.000000         -0.256131     0.671703   \n",
       "volatile acidity          -0.256131          1.000000    -0.552496   \n",
       "citric acid                0.671703         -0.552496     1.000000   \n",
       "residual sugar             0.114777          0.001918     0.143577   \n",
       "chlorides                  0.093705          0.061298     0.203823   \n",
       "free sulfur dioxide       -0.153794         -0.010504    -0.060978   \n",
       "total sulfur dioxide      -0.113181          0.076470     0.035533   \n",
       "density                    0.668047          0.022026     0.364947   \n",
       "pH                        -0.682978          0.234937    -0.541904   \n",
       "sulphates                  0.183006         -0.260987     0.312770   \n",
       "alcohol                   -0.061668         -0.202288     0.109903   \n",
       "quality                    0.124052         -0.390558     0.226373   \n",
       "\n",
       "                      residual sugar  chlorides  free sulfur dioxide  \\\n",
       "fixed acidity               0.114777   0.093705            -0.153794   \n",
       "volatile acidity            0.001918   0.061298            -0.010504   \n",
       "citric acid                 0.143577   0.203823            -0.060978   \n",
       "residual sugar              1.000000   0.055610             0.187049   \n",
       "chlorides                   0.055610   1.000000             0.005562   \n",
       "free sulfur dioxide         0.187049   0.005562             1.000000   \n",
       "total sulfur dioxide        0.203028   0.047400             0.667666   \n",
       "density                     0.355283   0.200632            -0.021946   \n",
       "pH                         -0.085652  -0.265026             0.070377   \n",
       "sulphates                   0.005527   0.371260             0.051658   \n",
       "alcohol                     0.042075  -0.221141            -0.069408   \n",
       "quality                     0.013732  -0.128907            -0.050656   \n",
       "\n",
       "                      total sulfur dioxide   density        pH  sulphates  \\\n",
       "fixed acidity                    -0.113181  0.668047 -0.682978   0.183006   \n",
       "volatile acidity                  0.076470  0.022026  0.234937  -0.260987   \n",
       "citric acid                       0.035533  0.364947 -0.541904   0.312770   \n",
       "residual sugar                    0.203028  0.355283 -0.085652   0.005527   \n",
       "chlorides                         0.047400  0.200632 -0.265026   0.371260   \n",
       "free sulfur dioxide               0.667666 -0.021946  0.070377   0.051658   \n",
       "total sulfur dioxide              1.000000  0.071269 -0.066495   0.042947   \n",
       "density                           0.071269  1.000000 -0.341699   0.148506   \n",
       "pH                               -0.066495 -0.341699  1.000000  -0.196648   \n",
       "sulphates                         0.042947  0.148506 -0.196648   1.000000   \n",
       "alcohol                          -0.205654 -0.496180  0.205633   0.093595   \n",
       "quality                          -0.185100 -0.174919 -0.057731   0.251397   \n",
       "\n",
       "                       alcohol   quality  \n",
       "fixed acidity        -0.061668  0.124052  \n",
       "volatile acidity     -0.202288 -0.390558  \n",
       "citric acid           0.109903  0.226373  \n",
       "residual sugar        0.042075  0.013732  \n",
       "chlorides            -0.221141 -0.128907  \n",
       "free sulfur dioxide  -0.069408 -0.050656  \n",
       "total sulfur dioxide -0.205654 -0.185100  \n",
       "density              -0.496180 -0.174919  \n",
       "pH                    0.205633 -0.057731  \n",
       "sulphates             0.093595  0.251397  \n",
       "alcohol               1.000000  0.476166  \n",
       "quality               0.476166  1.000000  "
      ]
     },
     "execution_count": 1356,
     "metadata": {},
     "output_type": "execute_result"
    }
   ],
   "source": [
    "corr"
   ]
  },
  {
   "cell_type": "code",
   "execution_count": 1357,
   "metadata": {},
   "outputs": [
    {
     "data": {
      "text/plain": [
       "fixed acidity           0.124052\n",
       "volatile acidity       -0.390558\n",
       "citric acid             0.226373\n",
       "residual sugar          0.013732\n",
       "chlorides              -0.128907\n",
       "free sulfur dioxide    -0.050656\n",
       "total sulfur dioxide   -0.185100\n",
       "density                -0.174919\n",
       "pH                     -0.057731\n",
       "sulphates               0.251397\n",
       "alcohol                 0.476166\n",
       "Name: quality, dtype: float64"
      ]
     },
     "execution_count": 1357,
     "metadata": {},
     "output_type": "execute_result"
    }
   ],
   "source": [
    "df[df.columns[0:]].corr()['quality'][:-1]"
   ]
  },
  {
   "cell_type": "markdown",
   "metadata": {},
   "source": [
    "<b>Предположение:</b> удалить признаки 'residual sugar','free sulfur dioxide', 'pH'.\n",
    "\n",
    "<b>Вывод:</b> при удалении признака 'residual sugar' качество модели немного улучшается, при удалении признаков 'free sulfur dioxide', 'pH' качество модели ухудшается. Удалим только 'residual sugar'."
   ]
  },
  {
   "cell_type": "code",
   "execution_count": 1358,
   "metadata": {
    "scrolled": true
   },
   "outputs": [
    {
     "name": "stdout",
     "output_type": "stream",
     "text": [
      "Model:            LinearRegression\n",
      "Model selection:  cross_val_score\n",
      "-----------------------------------\n",
      "Step:             3.  drop residual sugar\n",
      "-----------------------------------\n",
      "                                                  \n",
      "MSE:        0.3929646326166112\n",
      "r2:         0.36837701741893636\n"
     ]
    }
   ],
   "source": [
    "model=LinearRegression()\n",
    "\n",
    "result_mse=-cross_val_score(model,X[['fixed acidity','volatile acidity','citric acid','chlorides','free sulfur dioxide','total sulfur dioxide','density','pH','sulphates','alcohol']],y,cv=cv,scoring='neg_mean_squared_error')\n",
    "result_r2=cross_val_score(model,X[['fixed acidity','volatile acidity','citric acid','chlorides','free sulfur dioxide','total sulfur dioxide','density','pH','sulphates','alcohol']],y,cv=cv,scoring='r2')\n",
    "\n",
    "print(f'Model:            LinearRegression')\n",
    "print(f'Model selection:  cross_val_score')\n",
    "print(f'-----------------------------------')\n",
    "print(f'Step:             3.  drop residual sugar')\n",
    "print(f'-----------------------------------')\n",
    "print(f'                                                  ')\n",
    "print(f'MSE:        {result_mse.mean()}')\n",
    "print(f'r2:         {result_r2.mean()}')"
   ]
  },
  {
   "cell_type": "code",
   "execution_count": 1359,
   "metadata": {},
   "outputs": [],
   "source": [
    "X = X.drop('residual sugar', axis=1)"
   ]
  },
  {
   "cell_type": "markdown",
   "metadata": {},
   "source": [
    "<b>Предположение:</b> создать признак 'alcohol_NEW' как квадрат 'alcohol'.\n",
    "\n",
    "<b>Вывод:</b> создание нового признака 'alcohol_NEW' немного улучшает качество модели, оставим его"
   ]
  },
  {
   "cell_type": "code",
   "execution_count": 1360,
   "metadata": {},
   "outputs": [],
   "source": [
    "X['alcohol_NEW'] = X['alcohol'] ** 2"
   ]
  },
  {
   "cell_type": "code",
   "execution_count": 1361,
   "metadata": {},
   "outputs": [
    {
     "name": "stdout",
     "output_type": "stream",
     "text": [
      "Model:            LinearRegression\n",
      "Model selection:  cross_val_score\n",
      "-----------------------------------\n",
      "Step:             3.  create alcohol_NEW\n",
      "-----------------------------------\n",
      "                                                  \n",
      "MSE:        0.39425756548029456\n",
      "r2:         0.3662468285481905\n"
     ]
    }
   ],
   "source": [
    "model=LinearRegression()\n",
    "result_mse=-cross_val_score(model,X[['fixed acidity','volatile acidity','citric acid','chlorides','free sulfur dioxide','total sulfur dioxide','density','pH','sulphates','alcohol_NEW']],y,cv=cv,scoring='neg_mean_squared_error')\n",
    "result_r2=cross_val_score(model,X[['fixed acidity','volatile acidity','citric acid','chlorides','free sulfur dioxide','total sulfur dioxide','density','pH','sulphates','alcohol_NEW']],y,cv=cv,scoring='r2')\n",
    "\n",
    "print(f'Model:            LinearRegression')\n",
    "print(f'Model selection:  cross_val_score')\n",
    "print(f'-----------------------------------')\n",
    "print(f'Step:             3.  create alcohol_NEW')\n",
    "print(f'-----------------------------------')\n",
    "print(f'                                                  ')\n",
    "print(f'MSE:        {result_mse.mean()}')\n",
    "print(f'r2:         {result_r2.mean()}')"
   ]
  },
  {
   "cell_type": "code",
   "execution_count": 1362,
   "metadata": {},
   "outputs": [],
   "source": [
    "X = X.drop('alcohol', axis=1)"
   ]
  },
  {
   "cell_type": "markdown",
   "metadata": {},
   "source": [
    "<b>Предположение:</b> удалить зависимый признак 'fixed acidity'.\n",
    "\n",
    "<b>Вывод:</b> при удалении признака 'fixed acidity' качество модели улучшилось.\n"
   ]
  },
  {
   "cell_type": "code",
   "execution_count": 1363,
   "metadata": {},
   "outputs": [
    {
     "name": "stdout",
     "output_type": "stream",
     "text": [
      "Model:            LinearRegression\n",
      "Model selection:  cross_val_score\n",
      "-----------------------------------\n",
      "Step:             3. drop fixed acidity\n",
      "-----------------------------------\n",
      "                                                  \n",
      "MSE:        0.3934346683467919\n",
      "r2:         0.36752235158305524\n"
     ]
    }
   ],
   "source": [
    "model=LinearRegression()\n",
    "result_mse=-cross_val_score(model,X[['volatile acidity','citric acid','chlorides','free sulfur dioxide','total sulfur dioxide','density','pH','sulphates','alcohol_NEW']],y,cv=cv,scoring='neg_mean_squared_error')\n",
    "result_r2=cross_val_score(model,X[['volatile acidity','citric acid','chlorides','free sulfur dioxide','total sulfur dioxide','density','pH','sulphates','alcohol_NEW']],y,cv=cv,scoring='r2')\n",
    "\n",
    "print(f'Model:            LinearRegression')\n",
    "print(f'Model selection:  cross_val_score')\n",
    "print(f'-----------------------------------')\n",
    "print(f'Step:             3. drop fixed acidity')\n",
    "print(f'-----------------------------------')\n",
    "print(f'                                                  ')\n",
    "print(f'MSE:        {result_mse.mean()}')\n",
    "print(f'r2:         {result_r2.mean()}')"
   ]
  },
  {
   "cell_type": "code",
   "execution_count": 1364,
   "metadata": {},
   "outputs": [],
   "source": [
    "X = X.drop('fixed acidity', axis=1)"
   ]
  },
  {
   "cell_type": "code",
   "execution_count": 1365,
   "metadata": {},
   "outputs": [
    {
     "data": {
      "text/html": [
       "<div>\n",
       "<style scoped>\n",
       "    .dataframe tbody tr th:only-of-type {\n",
       "        vertical-align: middle;\n",
       "    }\n",
       "\n",
       "    .dataframe tbody tr th {\n",
       "        vertical-align: top;\n",
       "    }\n",
       "\n",
       "    .dataframe thead th {\n",
       "        text-align: right;\n",
       "    }\n",
       "</style>\n",
       "<table border=\"1\" class=\"dataframe\">\n",
       "  <thead>\n",
       "    <tr style=\"text-align: right;\">\n",
       "      <th></th>\n",
       "      <th>volatile acidity</th>\n",
       "      <th>citric acid</th>\n",
       "      <th>chlorides</th>\n",
       "      <th>free sulfur dioxide</th>\n",
       "      <th>total sulfur dioxide</th>\n",
       "      <th>density</th>\n",
       "      <th>pH</th>\n",
       "      <th>sulphates</th>\n",
       "      <th>alcohol_NEW</th>\n",
       "    </tr>\n",
       "  </thead>\n",
       "  <tbody>\n",
       "    <tr>\n",
       "      <th>0</th>\n",
       "      <td>0.70</td>\n",
       "      <td>0.00</td>\n",
       "      <td>0.076</td>\n",
       "      <td>11.0</td>\n",
       "      <td>34.0</td>\n",
       "      <td>0.9978</td>\n",
       "      <td>3.51</td>\n",
       "      <td>0.56</td>\n",
       "      <td>88.36</td>\n",
       "    </tr>\n",
       "    <tr>\n",
       "      <th>1</th>\n",
       "      <td>0.88</td>\n",
       "      <td>0.00</td>\n",
       "      <td>0.098</td>\n",
       "      <td>25.0</td>\n",
       "      <td>67.0</td>\n",
       "      <td>0.9968</td>\n",
       "      <td>3.20</td>\n",
       "      <td>0.68</td>\n",
       "      <td>96.04</td>\n",
       "    </tr>\n",
       "    <tr>\n",
       "      <th>2</th>\n",
       "      <td>0.76</td>\n",
       "      <td>0.04</td>\n",
       "      <td>0.092</td>\n",
       "      <td>15.0</td>\n",
       "      <td>54.0</td>\n",
       "      <td>0.9970</td>\n",
       "      <td>3.26</td>\n",
       "      <td>0.65</td>\n",
       "      <td>96.04</td>\n",
       "    </tr>\n",
       "    <tr>\n",
       "      <th>3</th>\n",
       "      <td>0.28</td>\n",
       "      <td>0.56</td>\n",
       "      <td>0.075</td>\n",
       "      <td>17.0</td>\n",
       "      <td>60.0</td>\n",
       "      <td>0.9980</td>\n",
       "      <td>3.16</td>\n",
       "      <td>0.58</td>\n",
       "      <td>96.04</td>\n",
       "    </tr>\n",
       "    <tr>\n",
       "      <th>4</th>\n",
       "      <td>0.70</td>\n",
       "      <td>0.00</td>\n",
       "      <td>0.076</td>\n",
       "      <td>11.0</td>\n",
       "      <td>34.0</td>\n",
       "      <td>0.9978</td>\n",
       "      <td>3.51</td>\n",
       "      <td>0.56</td>\n",
       "      <td>88.36</td>\n",
       "    </tr>\n",
       "    <tr>\n",
       "      <th>5</th>\n",
       "      <td>0.66</td>\n",
       "      <td>0.00</td>\n",
       "      <td>0.075</td>\n",
       "      <td>13.0</td>\n",
       "      <td>40.0</td>\n",
       "      <td>0.9978</td>\n",
       "      <td>3.51</td>\n",
       "      <td>0.56</td>\n",
       "      <td>88.36</td>\n",
       "    </tr>\n",
       "    <tr>\n",
       "      <th>6</th>\n",
       "      <td>0.60</td>\n",
       "      <td>0.06</td>\n",
       "      <td>0.069</td>\n",
       "      <td>15.0</td>\n",
       "      <td>59.0</td>\n",
       "      <td>0.9964</td>\n",
       "      <td>3.30</td>\n",
       "      <td>0.46</td>\n",
       "      <td>88.36</td>\n",
       "    </tr>\n",
       "    <tr>\n",
       "      <th>7</th>\n",
       "      <td>0.65</td>\n",
       "      <td>0.00</td>\n",
       "      <td>0.065</td>\n",
       "      <td>15.0</td>\n",
       "      <td>21.0</td>\n",
       "      <td>0.9946</td>\n",
       "      <td>3.39</td>\n",
       "      <td>0.47</td>\n",
       "      <td>100.00</td>\n",
       "    </tr>\n",
       "    <tr>\n",
       "      <th>8</th>\n",
       "      <td>0.58</td>\n",
       "      <td>0.02</td>\n",
       "      <td>0.073</td>\n",
       "      <td>9.0</td>\n",
       "      <td>18.0</td>\n",
       "      <td>0.9968</td>\n",
       "      <td>3.36</td>\n",
       "      <td>0.57</td>\n",
       "      <td>90.25</td>\n",
       "    </tr>\n",
       "    <tr>\n",
       "      <th>9</th>\n",
       "      <td>0.50</td>\n",
       "      <td>0.36</td>\n",
       "      <td>0.071</td>\n",
       "      <td>17.0</td>\n",
       "      <td>102.0</td>\n",
       "      <td>0.9978</td>\n",
       "      <td>3.35</td>\n",
       "      <td>0.80</td>\n",
       "      <td>110.25</td>\n",
       "    </tr>\n",
       "  </tbody>\n",
       "</table>\n",
       "</div>"
      ],
      "text/plain": [
       "   volatile acidity  citric acid  chlorides  free sulfur dioxide  \\\n",
       "0              0.70         0.00      0.076                 11.0   \n",
       "1              0.88         0.00      0.098                 25.0   \n",
       "2              0.76         0.04      0.092                 15.0   \n",
       "3              0.28         0.56      0.075                 17.0   \n",
       "4              0.70         0.00      0.076                 11.0   \n",
       "5              0.66         0.00      0.075                 13.0   \n",
       "6              0.60         0.06      0.069                 15.0   \n",
       "7              0.65         0.00      0.065                 15.0   \n",
       "8              0.58         0.02      0.073                  9.0   \n",
       "9              0.50         0.36      0.071                 17.0   \n",
       "\n",
       "   total sulfur dioxide  density    pH  sulphates  alcohol_NEW  \n",
       "0                  34.0   0.9978  3.51       0.56        88.36  \n",
       "1                  67.0   0.9968  3.20       0.68        96.04  \n",
       "2                  54.0   0.9970  3.26       0.65        96.04  \n",
       "3                  60.0   0.9980  3.16       0.58        96.04  \n",
       "4                  34.0   0.9978  3.51       0.56        88.36  \n",
       "5                  40.0   0.9978  3.51       0.56        88.36  \n",
       "6                  59.0   0.9964  3.30       0.46        88.36  \n",
       "7                  21.0   0.9946  3.39       0.47       100.00  \n",
       "8                  18.0   0.9968  3.36       0.57        90.25  \n",
       "9                 102.0   0.9978  3.35       0.80       110.25  "
      ]
     },
     "execution_count": 1365,
     "metadata": {},
     "output_type": "execute_result"
    }
   ],
   "source": [
    "X.head(10)"
   ]
  },
  {
   "cell_type": "code",
   "execution_count": 1366,
   "metadata": {},
   "outputs": [
    {
     "data": {
      "text/plain": [
       "<matplotlib.axes._subplots.AxesSubplot at 0x279f7cacb80>"
      ]
     },
     "execution_count": 1366,
     "metadata": {},
     "output_type": "execute_result"
    },
    {
     "data": {
      "image/png": "[encoded data removed]",
      "text/plain": [
       "<Figure size 432x288 with 2 Axes>"
      ]
     },
     "metadata": {
      "needs_background": "light"
     },
     "output_type": "display_data"
    }
   ],
   "source": [
    "import seaborn as sns\n",
    "df['alcohol_NEW'] = df['alcohol'] ** 2\n",
    "\n",
    "corr = df[['volatile acidity','citric acid','chlorides','free sulfur dioxide','total sulfur dioxide','density','pH','sulphates','alcohol_NEW','quality']].corr()\n",
    "\n",
    "sns.heatmap(corr, \n",
    "            xticklabels=corr.columns.values,\n",
    "            yticklabels=corr.columns.values,\n",
    "            cmap=\"PiYG\")"
   ]
  },
  {
   "cell_type": "code",
   "execution_count": 1367,
   "metadata": {},
   "outputs": [
    {
     "data": {
      "text/html": [
       "<div>\n",
       "<style scoped>\n",
       "    .dataframe tbody tr th:only-of-type {\n",
       "        vertical-align: middle;\n",
       "    }\n",
       "\n",
       "    .dataframe tbody tr th {\n",
       "        vertical-align: top;\n",
       "    }\n",
       "\n",
       "    .dataframe thead th {\n",
       "        text-align: right;\n",
       "    }\n",
       "</style>\n",
       "<table border=\"1\" class=\"dataframe\">\n",
       "  <thead>\n",
       "    <tr style=\"text-align: right;\">\n",
       "      <th></th>\n",
       "      <th>volatile acidity</th>\n",
       "      <th>citric acid</th>\n",
       "      <th>chlorides</th>\n",
       "      <th>free sulfur dioxide</th>\n",
       "      <th>total sulfur dioxide</th>\n",
       "      <th>density</th>\n",
       "      <th>pH</th>\n",
       "      <th>sulphates</th>\n",
       "      <th>alcohol_NEW</th>\n",
       "      <th>quality</th>\n",
       "    </tr>\n",
       "  </thead>\n",
       "  <tbody>\n",
       "    <tr>\n",
       "      <th>volatile acidity</th>\n",
       "      <td>1.000000</td>\n",
       "      <td>-0.552496</td>\n",
       "      <td>0.061298</td>\n",
       "      <td>-0.010504</td>\n",
       "      <td>0.076470</td>\n",
       "      <td>0.022026</td>\n",
       "      <td>0.234937</td>\n",
       "      <td>-0.260987</td>\n",
       "      <td>-0.202158</td>\n",
       "      <td>-0.390558</td>\n",
       "    </tr>\n",
       "    <tr>\n",
       "      <th>citric acid</th>\n",
       "      <td>-0.552496</td>\n",
       "      <td>1.000000</td>\n",
       "      <td>0.203823</td>\n",
       "      <td>-0.060978</td>\n",
       "      <td>0.035533</td>\n",
       "      <td>0.364947</td>\n",
       "      <td>-0.541904</td>\n",
       "      <td>0.312770</td>\n",
       "      <td>0.109805</td>\n",
       "      <td>0.226373</td>\n",
       "    </tr>\n",
       "    <tr>\n",
       "      <th>chlorides</th>\n",
       "      <td>0.061298</td>\n",
       "      <td>0.203823</td>\n",
       "      <td>1.000000</td>\n",
       "      <td>0.005562</td>\n",
       "      <td>0.047400</td>\n",
       "      <td>0.200632</td>\n",
       "      <td>-0.265026</td>\n",
       "      <td>0.371260</td>\n",
       "      <td>-0.215949</td>\n",
       "      <td>-0.128907</td>\n",
       "    </tr>\n",
       "    <tr>\n",
       "      <th>free sulfur dioxide</th>\n",
       "      <td>-0.010504</td>\n",
       "      <td>-0.060978</td>\n",
       "      <td>0.005562</td>\n",
       "      <td>1.000000</td>\n",
       "      <td>0.667666</td>\n",
       "      <td>-0.021946</td>\n",
       "      <td>0.070377</td>\n",
       "      <td>0.051658</td>\n",
       "      <td>-0.067689</td>\n",
       "      <td>-0.050656</td>\n",
       "    </tr>\n",
       "    <tr>\n",
       "      <th>total sulfur dioxide</th>\n",
       "      <td>0.076470</td>\n",
       "      <td>0.035533</td>\n",
       "      <td>0.047400</td>\n",
       "      <td>0.667666</td>\n",
       "      <td>1.000000</td>\n",
       "      <td>0.071269</td>\n",
       "      <td>-0.066495</td>\n",
       "      <td>0.042947</td>\n",
       "      <td>-0.196408</td>\n",
       "      <td>-0.185100</td>\n",
       "    </tr>\n",
       "    <tr>\n",
       "      <th>density</th>\n",
       "      <td>0.022026</td>\n",
       "      <td>0.364947</td>\n",
       "      <td>0.200632</td>\n",
       "      <td>-0.021946</td>\n",
       "      <td>0.071269</td>\n",
       "      <td>1.000000</td>\n",
       "      <td>-0.341699</td>\n",
       "      <td>0.148506</td>\n",
       "      <td>-0.499882</td>\n",
       "      <td>-0.174919</td>\n",
       "    </tr>\n",
       "    <tr>\n",
       "      <th>pH</th>\n",
       "      <td>0.234937</td>\n",
       "      <td>-0.541904</td>\n",
       "      <td>-0.265026</td>\n",
       "      <td>0.070377</td>\n",
       "      <td>-0.066495</td>\n",
       "      <td>-0.341699</td>\n",
       "      <td>1.000000</td>\n",
       "      <td>-0.196648</td>\n",
       "      <td>0.204721</td>\n",
       "      <td>-0.057731</td>\n",
       "    </tr>\n",
       "    <tr>\n",
       "      <th>sulphates</th>\n",
       "      <td>-0.260987</td>\n",
       "      <td>0.312770</td>\n",
       "      <td>0.371260</td>\n",
       "      <td>0.051658</td>\n",
       "      <td>0.042947</td>\n",
       "      <td>0.148506</td>\n",
       "      <td>-0.196648</td>\n",
       "      <td>1.000000</td>\n",
       "      <td>0.093237</td>\n",
       "      <td>0.251397</td>\n",
       "    </tr>\n",
       "    <tr>\n",
       "      <th>alcohol_NEW</th>\n",
       "      <td>-0.202158</td>\n",
       "      <td>0.109805</td>\n",
       "      <td>-0.215949</td>\n",
       "      <td>-0.067689</td>\n",
       "      <td>-0.196408</td>\n",
       "      <td>-0.499882</td>\n",
       "      <td>0.204721</td>\n",
       "      <td>0.093237</td>\n",
       "      <td>1.000000</td>\n",
       "      <td>0.473278</td>\n",
       "    </tr>\n",
       "    <tr>\n",
       "      <th>quality</th>\n",
       "      <td>-0.390558</td>\n",
       "      <td>0.226373</td>\n",
       "      <td>-0.128907</td>\n",
       "      <td>-0.050656</td>\n",
       "      <td>-0.185100</td>\n",
       "      <td>-0.174919</td>\n",
       "      <td>-0.057731</td>\n",
       "      <td>0.251397</td>\n",
       "      <td>0.473278</td>\n",
       "      <td>1.000000</td>\n",
       "    </tr>\n",
       "  </tbody>\n",
       "</table>\n",
       "</div>"
      ],
      "text/plain": [
       "                      volatile acidity  citric acid  chlorides  \\\n",
       "volatile acidity              1.000000    -0.552496   0.061298   \n",
       "citric acid                  -0.552496     1.000000   0.203823   \n",
       "chlorides                     0.061298     0.203823   1.000000   \n",
       "free sulfur dioxide          -0.010504    -0.060978   0.005562   \n",
       "total sulfur dioxide          0.076470     0.035533   0.047400   \n",
       "density                       0.022026     0.364947   0.200632   \n",
       "pH                            0.234937    -0.541904  -0.265026   \n",
       "sulphates                    -0.260987     0.312770   0.371260   \n",
       "alcohol_NEW                  -0.202158     0.109805  -0.215949   \n",
       "quality                      -0.390558     0.226373  -0.128907   \n",
       "\n",
       "                      free sulfur dioxide  total sulfur dioxide   density  \\\n",
       "volatile acidity                -0.010504              0.076470  0.022026   \n",
       "citric acid                     -0.060978              0.035533  0.364947   \n",
       "chlorides                        0.005562              0.047400  0.200632   \n",
       "free sulfur dioxide              1.000000              0.667666 -0.021946   \n",
       "total sulfur dioxide             0.667666              1.000000  0.071269   \n",
       "density                         -0.021946              0.071269  1.000000   \n",
       "pH                               0.070377             -0.066495 -0.341699   \n",
       "sulphates                        0.051658              0.042947  0.148506   \n",
       "alcohol_NEW                     -0.067689             -0.196408 -0.499882   \n",
       "quality                         -0.050656             -0.185100 -0.174919   \n",
       "\n",
       "                            pH  sulphates  alcohol_NEW   quality  \n",
       "volatile acidity      0.234937  -0.260987    -0.202158 -0.390558  \n",
       "citric acid          -0.541904   0.312770     0.109805  0.226373  \n",
       "chlorides            -0.265026   0.371260    -0.215949 -0.128907  \n",
       "free sulfur dioxide   0.070377   0.051658    -0.067689 -0.050656  \n",
       "total sulfur dioxide -0.066495   0.042947    -0.196408 -0.185100  \n",
       "density              -0.341699   0.148506    -0.499882 -0.174919  \n",
       "pH                    1.000000  -0.196648     0.204721 -0.057731  \n",
       "sulphates            -0.196648   1.000000     0.093237  0.251397  \n",
       "alcohol_NEW           0.204721   0.093237     1.000000  0.473278  \n",
       "quality              -0.057731   0.251397     0.473278  1.000000  "
      ]
     },
     "execution_count": 1367,
     "metadata": {},
     "output_type": "execute_result"
    }
   ],
   "source": [
    "corr"
   ]
  },
  {
   "cell_type": "markdown",
   "metadata": {},
   "source": [
    "<b>Вывод:</b> удалим признак citric acid, он умеет высокую корреляцию с другими признаками, и маленькую с целевой переменной"
   ]
  },
  {
   "cell_type": "code",
   "execution_count": 1368,
   "metadata": {},
   "outputs": [
    {
     "name": "stdout",
     "output_type": "stream",
     "text": [
      "Model:            LinearRegression\n",
      "Model selection:  cross_val_score\n",
      "-----------------------------------\n",
      "Step:             3.  drop citric acid \n",
      "-----------------------------------\n",
      "                                                  \n",
      "MSE train:        0.39314066330172515\n",
      "r2 train:         0.3679996575909819\n"
     ]
    }
   ],
   "source": [
    "model=LinearRegression()\n",
    "result_mse=-cross_val_score(model,X[['volatile acidity','chlorides','free sulfur dioxide','total sulfur dioxide','density','pH','sulphates','alcohol_NEW']],y,cv=cv,scoring='neg_mean_squared_error')\n",
    "result_r2=cross_val_score(model,X[['volatile acidity','chlorides','free sulfur dioxide','total sulfur dioxide','density','pH','sulphates','alcohol_NEW']],y,cv=cv,scoring='r2')\n",
    "\n",
    "print(f'Model:            LinearRegression')\n",
    "print(f'Model selection:  cross_val_score')\n",
    "print(f'-----------------------------------')\n",
    "print(f'Step:             3.  drop citric acid ')\n",
    "print(f'-----------------------------------')\n",
    "print(f'                                                  ')\n",
    "print(f'MSE train:        {result_mse.mean()}')\n",
    "print(f'r2 train:         {result_r2.mean()}')"
   ]
  },
  {
   "cell_type": "code",
   "execution_count": 1369,
   "metadata": {},
   "outputs": [],
   "source": [
    "X = X.drop('citric acid', axis=1)"
   ]
  },
  {
   "cell_type": "markdown",
   "metadata": {},
   "source": [
    "<b>Предположение:</b> признак 'free sulfur dioxide' сильно коррелирует с 'total sulfur dioxide', попробуем удалить его. Признак 'density' сильно коррелирует с 'alcohol_NEW', попробуем удалить его.\n",
    "\n",
    "<b>Вывод:</b> удаление признака 'free sulfur dioxide' не влияет на качество модели. Удаление признака 'density'  улучшает модель."
   ]
  },
  {
   "cell_type": "code",
   "execution_count": 1370,
   "metadata": {},
   "outputs": [
    {
     "name": "stdout",
     "output_type": "stream",
     "text": [
      "Model:            LinearRegression\n",
      "Model selection:  cross_val_score\n",
      "-----------------------------------\n",
      "Step:             3.  drop density\n",
      "-----------------------------------\n",
      "                                                  \n",
      "MSE:        0.39235531860752204\n",
      "r2:         0.3692685156971726\n"
     ]
    }
   ],
   "source": [
    "model=LinearRegression()\n",
    "result_mse=-cross_val_score(model,X[['volatile acidity','chlorides','free sulfur dioxide','total sulfur dioxide','pH','sulphates','alcohol_NEW']],y,cv=cv,scoring='neg_mean_squared_error')\n",
    "result_r2=cross_val_score(model,X[['volatile acidity','chlorides','free sulfur dioxide','total sulfur dioxide','pH','sulphates','alcohol_NEW']],y,cv=cv,scoring='r2')\n",
    "\n",
    "print(f'Model:            LinearRegression')\n",
    "print(f'Model selection:  cross_val_score')\n",
    "print(f'-----------------------------------')\n",
    "print(f'Step:             3.  drop density')\n",
    "print(f'-----------------------------------')\n",
    "print(f'                                                  ')\n",
    "print(f'MSE:        {result_mse.mean()}')\n",
    "print(f'r2:         {result_r2.mean()}')"
   ]
  },
  {
   "cell_type": "code",
   "execution_count": 1371,
   "metadata": {},
   "outputs": [],
   "source": [
    "X = X.drop('density', axis=1)"
   ]
  },
  {
   "cell_type": "code",
   "execution_count": 1372,
   "metadata": {},
   "outputs": [
    {
     "data": {
      "text/plain": [
       "<matplotlib.axes._subplots.AxesSubplot at 0x279f7bc7fd0>"
      ]
     },
     "execution_count": 1372,
     "metadata": {},
     "output_type": "execute_result"
    },
    {
     "data": {
      "image/png": "[encoded data removed]",
      "text/plain": [
       "<Figure size 432x288 with 2 Axes>"
      ]
     },
     "metadata": {
      "needs_background": "light"
     },
     "output_type": "display_data"
    }
   ],
   "source": [
    "import seaborn as sns\n",
    "\n",
    "corr = df[['volatile acidity','chlorides','free sulfur dioxide','total sulfur dioxide','pH','sulphates','alcohol_NEW','quality']].corr()\n",
    "\n",
    "sns.heatmap(corr, \n",
    "            xticklabels=corr.columns.values,\n",
    "            yticklabels=corr.columns.values,\n",
    "            cmap=\"PiYG\")"
   ]
  },
  {
   "cell_type": "code",
   "execution_count": 1373,
   "metadata": {},
   "outputs": [
    {
     "data": {
      "text/html": [
       "<div>\n",
       "<style scoped>\n",
       "    .dataframe tbody tr th:only-of-type {\n",
       "        vertical-align: middle;\n",
       "    }\n",
       "\n",
       "    .dataframe tbody tr th {\n",
       "        vertical-align: top;\n",
       "    }\n",
       "\n",
       "    .dataframe thead th {\n",
       "        text-align: right;\n",
       "    }\n",
       "</style>\n",
       "<table border=\"1\" class=\"dataframe\">\n",
       "  <thead>\n",
       "    <tr style=\"text-align: right;\">\n",
       "      <th></th>\n",
       "      <th>volatile acidity</th>\n",
       "      <th>chlorides</th>\n",
       "      <th>free sulfur dioxide</th>\n",
       "      <th>total sulfur dioxide</th>\n",
       "      <th>pH</th>\n",
       "      <th>sulphates</th>\n",
       "      <th>alcohol_NEW</th>\n",
       "      <th>quality</th>\n",
       "    </tr>\n",
       "  </thead>\n",
       "  <tbody>\n",
       "    <tr>\n",
       "      <th>volatile acidity</th>\n",
       "      <td>1.000000</td>\n",
       "      <td>0.061298</td>\n",
       "      <td>-0.010504</td>\n",
       "      <td>0.076470</td>\n",
       "      <td>0.234937</td>\n",
       "      <td>-0.260987</td>\n",
       "      <td>-0.202158</td>\n",
       "      <td>-0.390558</td>\n",
       "    </tr>\n",
       "    <tr>\n",
       "      <th>chlorides</th>\n",
       "      <td>0.061298</td>\n",
       "      <td>1.000000</td>\n",
       "      <td>0.005562</td>\n",
       "      <td>0.047400</td>\n",
       "      <td>-0.265026</td>\n",
       "      <td>0.371260</td>\n",
       "      <td>-0.215949</td>\n",
       "      <td>-0.128907</td>\n",
       "    </tr>\n",
       "    <tr>\n",
       "      <th>free sulfur dioxide</th>\n",
       "      <td>-0.010504</td>\n",
       "      <td>0.005562</td>\n",
       "      <td>1.000000</td>\n",
       "      <td>0.667666</td>\n",
       "      <td>0.070377</td>\n",
       "      <td>0.051658</td>\n",
       "      <td>-0.067689</td>\n",
       "      <td>-0.050656</td>\n",
       "    </tr>\n",
       "    <tr>\n",
       "      <th>total sulfur dioxide</th>\n",
       "      <td>0.076470</td>\n",
       "      <td>0.047400</td>\n",
       "      <td>0.667666</td>\n",
       "      <td>1.000000</td>\n",
       "      <td>-0.066495</td>\n",
       "      <td>0.042947</td>\n",
       "      <td>-0.196408</td>\n",
       "      <td>-0.185100</td>\n",
       "    </tr>\n",
       "    <tr>\n",
       "      <th>pH</th>\n",
       "      <td>0.234937</td>\n",
       "      <td>-0.265026</td>\n",
       "      <td>0.070377</td>\n",
       "      <td>-0.066495</td>\n",
       "      <td>1.000000</td>\n",
       "      <td>-0.196648</td>\n",
       "      <td>0.204721</td>\n",
       "      <td>-0.057731</td>\n",
       "    </tr>\n",
       "    <tr>\n",
       "      <th>sulphates</th>\n",
       "      <td>-0.260987</td>\n",
       "      <td>0.371260</td>\n",
       "      <td>0.051658</td>\n",
       "      <td>0.042947</td>\n",
       "      <td>-0.196648</td>\n",
       "      <td>1.000000</td>\n",
       "      <td>0.093237</td>\n",
       "      <td>0.251397</td>\n",
       "    </tr>\n",
       "    <tr>\n",
       "      <th>alcohol_NEW</th>\n",
       "      <td>-0.202158</td>\n",
       "      <td>-0.215949</td>\n",
       "      <td>-0.067689</td>\n",
       "      <td>-0.196408</td>\n",
       "      <td>0.204721</td>\n",
       "      <td>0.093237</td>\n",
       "      <td>1.000000</td>\n",
       "      <td>0.473278</td>\n",
       "    </tr>\n",
       "    <tr>\n",
       "      <th>quality</th>\n",
       "      <td>-0.390558</td>\n",
       "      <td>-0.128907</td>\n",
       "      <td>-0.050656</td>\n",
       "      <td>-0.185100</td>\n",
       "      <td>-0.057731</td>\n",
       "      <td>0.251397</td>\n",
       "      <td>0.473278</td>\n",
       "      <td>1.000000</td>\n",
       "    </tr>\n",
       "  </tbody>\n",
       "</table>\n",
       "</div>"
      ],
      "text/plain": [
       "                      volatile acidity  chlorides  free sulfur dioxide  \\\n",
       "volatile acidity              1.000000   0.061298            -0.010504   \n",
       "chlorides                     0.061298   1.000000             0.005562   \n",
       "free sulfur dioxide          -0.010504   0.005562             1.000000   \n",
       "total sulfur dioxide          0.076470   0.047400             0.667666   \n",
       "pH                            0.234937  -0.265026             0.070377   \n",
       "sulphates                    -0.260987   0.371260             0.051658   \n",
       "alcohol_NEW                  -0.202158  -0.215949            -0.067689   \n",
       "quality                      -0.390558  -0.128907            -0.050656   \n",
       "\n",
       "                      total sulfur dioxide        pH  sulphates  alcohol_NEW  \\\n",
       "volatile acidity                  0.076470  0.234937  -0.260987    -0.202158   \n",
       "chlorides                         0.047400 -0.265026   0.371260    -0.215949   \n",
       "free sulfur dioxide               0.667666  0.070377   0.051658    -0.067689   \n",
       "total sulfur dioxide              1.000000 -0.066495   0.042947    -0.196408   \n",
       "pH                               -0.066495  1.000000  -0.196648     0.204721   \n",
       "sulphates                         0.042947 -0.196648   1.000000     0.093237   \n",
       "alcohol_NEW                      -0.196408  0.204721   0.093237     1.000000   \n",
       "quality                          -0.185100 -0.057731   0.251397     0.473278   \n",
       "\n",
       "                       quality  \n",
       "volatile acidity     -0.390558  \n",
       "chlorides            -0.128907  \n",
       "free sulfur dioxide  -0.050656  \n",
       "total sulfur dioxide -0.185100  \n",
       "pH                   -0.057731  \n",
       "sulphates             0.251397  \n",
       "alcohol_NEW           0.473278  \n",
       "quality               1.000000  "
      ]
     },
     "execution_count": 1373,
     "metadata": {},
     "output_type": "execute_result"
    }
   ],
   "source": [
    "corr"
   ]
  },
  {
   "cell_type": "code",
   "execution_count": 1374,
   "metadata": {},
   "outputs": [
    {
     "data": {
      "text/plain": [
       "volatile acidity       -0.390558\n",
       "chlorides              -0.128907\n",
       "free sulfur dioxide    -0.050656\n",
       "total sulfur dioxide   -0.185100\n",
       "pH                     -0.057731\n",
       "sulphates               0.251397\n",
       "alcohol_NEW             0.473278\n",
       "Name: quality, dtype: float64"
      ]
     },
     "execution_count": 1374,
     "metadata": {},
     "output_type": "execute_result"
    }
   ],
   "source": [
    "df[['volatile acidity','chlorides','free sulfur dioxide','total sulfur dioxide','pH','sulphates','alcohol_NEW','quality']].corr()['quality'][:-1]"
   ]
  },
  {
   "cell_type": "markdown",
   "metadata": {},
   "source": [
    "<b>Вывод:</b> создание нового признака 'volatile acidity_New' не улучшает качество модели, удалим его"
   ]
  },
  {
   "cell_type": "code",
   "execution_count": 1375,
   "metadata": {},
   "outputs": [],
   "source": [
    "X['volatile acidity_New'] = X['volatile acidity'] ** 2"
   ]
  },
  {
   "cell_type": "code",
   "execution_count": 1376,
   "metadata": {},
   "outputs": [
    {
     "name": "stdout",
     "output_type": "stream",
     "text": [
      "Model:            LinearRegression\n",
      "Model selection:  cross_val_score\n",
      "-----------------------------------\n",
      "Step:             3. create volatile acidity_New\n",
      "-----------------------------------\n",
      "                                                  \n",
      "MSE:        0.3942263743421305\n",
      "r2:         0.3662874943580281\n"
     ]
    }
   ],
   "source": [
    "model=LinearRegression()\n",
    "result_mse=-cross_val_score(model,X[['volatile acidity_New','chlorides','free sulfur dioxide','total sulfur dioxide','pH','sulphates','alcohol_NEW']],y,cv=cv,scoring='neg_mean_squared_error')\n",
    "result_r2=cross_val_score(model,X[['volatile acidity_New','chlorides','free sulfur dioxide','total sulfur dioxide','pH','sulphates','alcohol_NEW']],y,cv=cv,scoring='r2')\n",
    "      \n",
    "print(f'Model:            LinearRegression')\n",
    "print(f'Model selection:  cross_val_score')\n",
    "print(f'-----------------------------------')\n",
    "print(f'Step:             3. create volatile acidity_New')\n",
    "print(f'-----------------------------------')\n",
    "print(f'                                                  ')\n",
    "print(f'MSE:        {result_mse.mean()}')\n",
    "print(f'r2:         {result_r2.mean()}')"
   ]
  },
  {
   "cell_type": "code",
   "execution_count": 1377,
   "metadata": {},
   "outputs": [],
   "source": [
    "X = X.drop('volatile acidity_New', axis=1)"
   ]
  },
  {
   "cell_type": "code",
   "execution_count": 1378,
   "metadata": {},
   "outputs": [
    {
     "data": {
      "text/html": [
       "<div>\n",
       "<style scoped>\n",
       "    .dataframe tbody tr th:only-of-type {\n",
       "        vertical-align: middle;\n",
       "    }\n",
       "\n",
       "    .dataframe tbody tr th {\n",
       "        vertical-align: top;\n",
       "    }\n",
       "\n",
       "    .dataframe thead th {\n",
       "        text-align: right;\n",
       "    }\n",
       "</style>\n",
       "<table border=\"1\" class=\"dataframe\">\n",
       "  <thead>\n",
       "    <tr style=\"text-align: right;\">\n",
       "      <th></th>\n",
       "      <th>volatile acidity</th>\n",
       "      <th>chlorides</th>\n",
       "      <th>free sulfur dioxide</th>\n",
       "      <th>total sulfur dioxide</th>\n",
       "      <th>pH</th>\n",
       "      <th>sulphates</th>\n",
       "      <th>alcohol_NEW</th>\n",
       "    </tr>\n",
       "  </thead>\n",
       "  <tbody>\n",
       "    <tr>\n",
       "      <th>0</th>\n",
       "      <td>0.70</td>\n",
       "      <td>0.076</td>\n",
       "      <td>11.0</td>\n",
       "      <td>34.0</td>\n",
       "      <td>3.51</td>\n",
       "      <td>0.56</td>\n",
       "      <td>88.36</td>\n",
       "    </tr>\n",
       "    <tr>\n",
       "      <th>1</th>\n",
       "      <td>0.88</td>\n",
       "      <td>0.098</td>\n",
       "      <td>25.0</td>\n",
       "      <td>67.0</td>\n",
       "      <td>3.20</td>\n",
       "      <td>0.68</td>\n",
       "      <td>96.04</td>\n",
       "    </tr>\n",
       "    <tr>\n",
       "      <th>2</th>\n",
       "      <td>0.76</td>\n",
       "      <td>0.092</td>\n",
       "      <td>15.0</td>\n",
       "      <td>54.0</td>\n",
       "      <td>3.26</td>\n",
       "      <td>0.65</td>\n",
       "      <td>96.04</td>\n",
       "    </tr>\n",
       "    <tr>\n",
       "      <th>3</th>\n",
       "      <td>0.28</td>\n",
       "      <td>0.075</td>\n",
       "      <td>17.0</td>\n",
       "      <td>60.0</td>\n",
       "      <td>3.16</td>\n",
       "      <td>0.58</td>\n",
       "      <td>96.04</td>\n",
       "    </tr>\n",
       "    <tr>\n",
       "      <th>4</th>\n",
       "      <td>0.70</td>\n",
       "      <td>0.076</td>\n",
       "      <td>11.0</td>\n",
       "      <td>34.0</td>\n",
       "      <td>3.51</td>\n",
       "      <td>0.56</td>\n",
       "      <td>88.36</td>\n",
       "    </tr>\n",
       "  </tbody>\n",
       "</table>\n",
       "</div>"
      ],
      "text/plain": [
       "   volatile acidity  chlorides  free sulfur dioxide  total sulfur dioxide  \\\n",
       "0              0.70      0.076                 11.0                  34.0   \n",
       "1              0.88      0.098                 25.0                  67.0   \n",
       "2              0.76      0.092                 15.0                  54.0   \n",
       "3              0.28      0.075                 17.0                  60.0   \n",
       "4              0.70      0.076                 11.0                  34.0   \n",
       "\n",
       "     pH  sulphates  alcohol_NEW  \n",
       "0  3.51       0.56        88.36  \n",
       "1  3.20       0.68        96.04  \n",
       "2  3.26       0.65        96.04  \n",
       "3  3.16       0.58        96.04  \n",
       "4  3.51       0.56        88.36  "
      ]
     },
     "execution_count": 1378,
     "metadata": {},
     "output_type": "execute_result"
    }
   ],
   "source": [
    "X.head()"
   ]
  },
  {
   "cell_type": "markdown",
   "metadata": {},
   "source": [
    "<b>Предположение:</b> применим линейную регрессию с L1-регуляризацией (Lasso),но подберем параметр регуляризации alpha из диапазона (0.001, 0.1) с шагом 0.001. <b>Вывод:</b> best_score_ стал выше, но после применения модель лучше не стала."
   ]
  },
  {
   "cell_type": "code",
   "execution_count": 1379,
   "metadata": {},
   "outputs": [],
   "source": [
    "# поделит заново наши выборку на тренеровочную и тестовую на новом наборе признаков\n",
    "Xtrain,Xtest,ytrain,ytest=train_test_split(X,y,test_size=0.3,random_state=100)"
   ]
  },
  {
   "cell_type": "code",
   "execution_count": 1380,
   "metadata": {},
   "outputs": [
    {
     "data": {
      "text/plain": [
       "GridSearchCV(cv=5, estimator=Lasso(),\n",
       "             param_grid={'alpha': array([0.001, 0.002, 0.003, 0.004, 0.005, 0.006, 0.007, 0.008, 0.009,\n",
       "       0.01 , 0.011, 0.012, 0.013, 0.014, 0.015, 0.016, 0.017, 0.018,\n",
       "       0.019, 0.02 , 0.021, 0.022, 0.023, 0.024, 0.025, 0.026, 0.027,\n",
       "       0.028, 0.029, 0.03 , 0.031, 0.032, 0.033, 0.034, 0.035, 0.036,\n",
       "       0.037, 0.038, 0.039, 0.04 , 0.041, 0.042, 0.043, 0.044, 0.045,\n",
       "       0.046, 0.047, 0.048, 0.049, 0.05 , 0.051, 0.052, 0.053, 0.054,\n",
       "       0.055, 0.056, 0.057, 0.058, 0.059, 0.06 , 0.061, 0.062, 0.063,\n",
       "       0.064, 0.065, 0.066, 0.067, 0.068, 0.069, 0.07 , 0.071, 0.072,\n",
       "       0.073, 0.074, 0.075, 0.076, 0.077, 0.078, 0.079, 0.08 , 0.081,\n",
       "       0.082, 0.083, 0.084, 0.085, 0.086, 0.087, 0.088, 0.089, 0.09 ,\n",
       "       0.091, 0.092, 0.093, 0.094, 0.095, 0.096, 0.097, 0.098, 0.099,\n",
       "       0.1  ])},\n",
       "             scoring='r2')"
      ]
     },
     "execution_count": 1380,
     "metadata": {},
     "output_type": "execute_result"
    }
   ],
   "source": [
    "from sklearn.linear_model import Lasso\n",
    "\n",
    "lasso_alphas = np.linspace(0.001, 0.1, num=100)\n",
    "grid = dict()\n",
    "grid['alpha'] = lasso_alphas\n",
    "\n",
    "gs=GridSearchCV(Lasso(),grid,scoring='r2', cv=5)\n",
    "gs.fit(Xtrain, ytrain)\n"
   ]
  },
  {
   "cell_type": "code",
   "execution_count": 1381,
   "metadata": {},
   "outputs": [
    {
     "name": "stdout",
     "output_type": "stream",
     "text": [
      "Model:            Lasso\n",
      "Model selection:  GridSearchCV\n",
      "-----------------------------------\n",
      "                                \n",
      "best_estimator_ :  Lasso(alpha=0.001)\n",
      "best_score_:       0.35304274386097945\n"
     ]
    }
   ],
   "source": [
    "print(f'Model:            Lasso')\n",
    "print(f'Model selection:  GridSearchCV')\n",
    "print(f'-----------------------------------')\n",
    "print(f'                                ')\n",
    "print(f'best_estimator_ :  {gs.best_estimator_}')\n",
    "print(f'best_score_:       {gs.best_score_}')"
   ]
  },
  {
   "cell_type": "code",
   "execution_count": 1382,
   "metadata": {},
   "outputs": [
    {
     "name": "stdout",
     "output_type": "stream",
     "text": [
      "Model:            Lasso\n",
      "-----------------------------------\n",
      "                                \n",
      "r2:  0.311771047492024\n"
     ]
    }
   ],
   "source": [
    "lasso=Lasso(alpha=0.001)\n",
    "lasso.fit(Xtrain,ytrain)\n",
    "\n",
    "pred_test_lasso=lasso.predict(Xtest)\n",
    "\n",
    "print(f'Model:            Lasso')\n",
    "print(f'-----------------------------------')\n",
    "print(f'                                ')\n",
    "print(f'r2:  {r2_score(ytest,pred_test_lasso)}')\n"
   ]
  },
  {
   "cell_type": "markdown",
   "metadata": {},
   "source": [
    "<b>Вывод:</b> Проверим итоговое качество и построим модель."
   ]
  },
  {
   "cell_type": "code",
   "execution_count": 1383,
   "metadata": {},
   "outputs": [
    {
     "name": "stdout",
     "output_type": "stream",
     "text": [
      "Model:            LinearRegression\n",
      "Model selection:  cross_val_score\n",
      "--------------------------------------------\n",
      "Step:             quality of the final model\n",
      "--------------------------------------------\n",
      "                                            \n",
      "MSE:        0.39235531860752204\n",
      "r2:         0.3692685156971726\n"
     ]
    }
   ],
   "source": [
    "model=LinearRegression()\n",
    "result_mse=-cross_val_score(model,X,y,cv=cv,scoring='neg_mean_squared_error')\n",
    "result_r2=cross_val_score(model,X,y,cv=cv,scoring='r2')\n",
    "      \n",
    "print(f'Model:            LinearRegression')\n",
    "print(f'Model selection:  cross_val_score')\n",
    "print(f'--------------------------------------------')\n",
    "print(f'Step:             quality of the final model')\n",
    "print(f'--------------------------------------------')\n",
    "print(f'                                            ')\n",
    "print(f'MSE:        {result_mse.mean()}')\n",
    "print(f'r2:         {result_r2.mean()}')"
   ]
  },
  {
   "cell_type": "code",
   "execution_count": 1384,
   "metadata": {},
   "outputs": [
    {
     "name": "stdout",
     "output_type": "stream",
     "text": [
      "Model:            LinearRegression\n",
      "Model selection:  train_test_split\n",
      "--------------------------------------------\n",
      "Step:             quality of the final model\n",
      "--------------------------------------------\n",
      "                                            \n",
      "MSE train:        0.41096801636158986\n",
      "MSE test:         0.43840303189893637\n",
      "                                                  \n",
      "r2 train:         0.3748170095887521\n",
      "r2 test:          0.31343081464440625\n"
     ]
    }
   ],
   "source": [
    "model=LinearRegression()\n",
    "\n",
    "model.fit(Xtrain,ytrain)\n",
    "\n",
    "pred_train=model.predict(Xtrain)\n",
    "pred_test=model.predict(Xtest)\n",
    "\n",
    "print(f'Model:            LinearRegression')\n",
    "print(f'Model selection:  train_test_split')\n",
    "print(f'--------------------------------------------')\n",
    "print(f'Step:             quality of the final model')\n",
    "print(f'--------------------------------------------')\n",
    "print(f'                                            ')\n",
    "print(f'MSE train:        {mean_squared_error(ytrain,pred_train)}')\n",
    "print(f'MSE test:         {mean_squared_error(ytest,pred_test)}')\n",
    "print(f'                                                  ')\n",
    "print(f'r2 train:         {r2_score(ytrain,pred_train)}')\n",
    "print(f'r2 test:          {r2_score(ytest,pred_test)}')"
   ]
  },
  {
   "cell_type": "code",
   "execution_count": 1387,
   "metadata": {},
   "outputs": [],
   "source": []
  }
 ],
 "metadata": {
  "kernelspec": {
   "display_name": "Python 3",
   "language": "python",
   "name": "python3"
  },
  "language_info": {
   "codemirror_mode": {
    "name": "ipython",
    "version": 3
   },
   "file_extension": ".py",
   "mimetype": "text/x-python",
   "name": "python",
   "nbconvert_exporter": "python",
   "pygments_lexer": "ipython3",
   "version": "3.8.3"
  },
  "toc": {
   "base_numbering": 1,
   "nav_menu": {},
   "number_sections": true,
   "sideBar": true,
   "skip_h1_title": false,
   "title_cell": "Table of Contents",
   "title_sidebar": "Contents",
   "toc_cell": false,
   "toc_position": {},
   "toc_section_display": true,
   "toc_window_display": false
  },
  "varInspector": {
   "cols": {
    "lenName": 16,
    "lenType": 16,
    "lenVar": 40
   },
   "kernels_config": {
    "python": {
     "delete_cmd_postfix": "",
     "delete_cmd_prefix": "del ",
     "library": "var_list.py",
     "varRefreshCmd": "print(var_dic_list())"
    },
    "r": {
     "delete_cmd_postfix": ") ",
     "delete_cmd_prefix": "rm(",
     "library": "var_list.r",
     "varRefreshCmd": "cat(var_dic_list()) "
    }
   },
   "types_to_exclude": [
    "module",
    "function",
    "builtin_function_or_method",
    "instance",
    "_Feature"
   ],
   "window_display": false
  }
 },
 "nbformat": 4,
 "nbformat_minor": 2
}
